{
 "cells": [
  {
   "cell_type": "code",
   "execution_count": 1,
   "metadata": {},
   "outputs": [],
   "source": [
    "from murel.models.MurelNet import MurelNet\n",
    "from dataset.MurelNetDataset import MurelNetDataset\n",
    "from dataset.ConcatBaselineDataset import ConcatBaselineDataset\n",
    "import yaml\n",
    "import torch\n",
    "from torch.utils.data import DataLoader"
   ]
  },
  {
   "cell_type": "code",
   "execution_count": 2,
   "metadata": {},
   "outputs": [
    {
     "name": "stderr",
     "output_type": "stream",
     "text": [
      "/home/bat34/venv/lib/python3.5/site-packages/ipykernel_launcher.py:2: YAMLLoadWarning: calling yaml.load() without Loader=... is deprecated, as the default Loader is unsafe. Please read https://msg.pyyaml.org/load for full details.\n",
      "  \n"
     ]
    }
   ],
   "source": [
    "with open('murel/scripts/murel.yaml') as f:\n",
    "    config = yaml.load(f)\n",
    "    config = config['murel_options']\n",
    "model = MurelNet(config)"
   ]
  },
  {
   "cell_type": "code",
   "execution_count": 6,
   "metadata": {},
   "outputs": [],
   "source": [
    "model_dict = torch.load('/auto/homes/bat34/VQA_PartII/murel/trained_models/murel_txt_enc_BayesianUniSkip_batch_size_84_lr_0.0003_lr_decay_rate_0.25_unroll_steps_3_fusion_type_block_accuracy_0.36200476471784543_epoch_4.pth')"
   ]
  },
  {
   "cell_type": "code",
   "execution_count": 9,
   "metadata": {},
   "outputs": [
    {
     "data": {
      "text/plain": [
       "tensor([-1.4256e-02, -1.7508e-04, -2.7437e-02, -3.5235e-02, -2.0369e-02,\n",
       "        -1.0190e-02, -1.1055e-02,  2.1461e-02,  2.4971e-02,  5.5038e-02,\n",
       "         8.0969e-03, -1.3701e-02,  2.2034e-02, -3.4338e-02,  2.0478e-02,\n",
       "        -3.1970e-02,  2.9116e-02,  5.5122e-02,  2.4212e-02, -2.8455e-02,\n",
       "        -6.0436e-02,  2.2290e-02,  1.3987e-02,  2.9504e-02, -1.6089e-02,\n",
       "         4.6652e-03,  3.9003e-02, -3.4514e-03,  1.2505e-02, -3.8212e-02,\n",
       "        -1.2666e-02,  3.4360e-03,  1.1180e-02,  3.2444e-02, -4.1320e-02,\n",
       "         3.5522e-02,  1.3957e-02, -2.4306e-02, -5.9675e-03, -2.5699e-02,\n",
       "        -3.6218e-02,  1.0433e-02,  2.2225e-02,  6.1518e-02,  1.4003e-02,\n",
       "        -4.1776e-02, -3.8164e-02,  4.0048e-02,  5.3078e-02,  4.7558e-02,\n",
       "         1.0593e-02, -2.9310e-02,  1.3310e-02,  6.2026e-02, -1.9292e-03,\n",
       "         7.1717e-03,  2.6400e-02, -5.4944e-03, -3.6152e-03, -4.5293e-03,\n",
       "         1.2434e-02,  3.5671e-02,  7.1110e-02, -7.1391e-03, -1.4897e-02,\n",
       "        -5.2925e-02, -6.0688e-03,  1.0513e-03, -3.7381e-02, -4.1732e-03,\n",
       "         9.5636e-03,  2.1154e-02, -2.8447e-02,  2.7443e-02,  3.4576e-02,\n",
       "         1.0323e-02,  3.3632e-02,  2.8790e-02,  4.4725e-02, -1.9504e-03,\n",
       "        -9.6850e-03, -3.7882e-02,  4.4246e-03,  5.4922e-02,  4.1312e-03,\n",
       "        -1.3571e-02, -2.1639e-03,  2.2211e-02,  5.7403e-03, -1.7094e-02,\n",
       "        -2.3668e-02, -2.2206e-02, -4.0726e-03, -1.0568e-02,  9.8443e-03,\n",
       "         2.4783e-03, -3.8031e-03, -2.6865e-02, -1.8263e-02, -1.6768e-02,\n",
       "        -1.4298e-02,  2.2389e-02, -1.5897e-02,  7.0935e-03, -6.0845e-02,\n",
       "         1.6979e-02,  1.9688e-02, -5.3520e-03, -1.9702e-02, -5.0672e-03,\n",
       "         3.6238e-02,  1.1832e-02, -3.1205e-02,  1.1277e-02,  1.7256e-02,\n",
       "        -1.0809e-02,  1.9258e-02, -3.4616e-02,  2.9529e-02,  3.3483e-02,\n",
       "         1.6512e-02,  2.8654e-02, -3.2576e-02,  3.0885e-02,  5.3413e-02,\n",
       "        -1.7901e-02,  2.0431e-02, -2.6115e-02,  4.6947e-02, -1.0389e-02,\n",
       "         3.9035e-03, -3.5952e-02, -8.2709e-03, -2.7151e-02,  6.6399e-03,\n",
       "         2.7056e-02,  2.4435e-02, -4.6020e-02,  1.0876e-02,  8.4635e-03,\n",
       "        -1.5318e-02, -2.3554e-02, -3.7642e-02, -2.9761e-02, -1.4574e-02,\n",
       "         9.1274e-03,  1.9549e-02,  2.5848e-02,  3.3096e-02,  2.7978e-02,\n",
       "         2.7389e-02,  3.6932e-02,  1.7579e-02, -2.4984e-02, -9.3518e-03,\n",
       "        -7.5083e-02, -5.1233e-02,  5.1934e-03, -2.4203e-02, -2.5715e-02,\n",
       "         2.4711e-02,  1.3019e-02,  2.3539e-02, -5.0039e-02, -3.2451e-02,\n",
       "         1.2998e-02,  3.1235e-02,  9.0340e-04, -5.1662e-02, -5.0078e-03,\n",
       "        -6.9766e-03, -1.8921e-02,  2.7384e-02, -4.5109e-02, -1.5649e-02,\n",
       "        -2.3161e-02,  6.5002e-03, -2.6773e-02,  5.9372e-02,  1.8409e-02,\n",
       "         2.9441e-02,  2.2796e-03,  4.7864e-02,  2.2127e-02, -2.4828e-02,\n",
       "         6.5908e-02, -7.5443e-02, -4.1717e-02,  4.6300e-02, -4.6665e-02,\n",
       "         6.9979e-02,  2.0024e-02, -6.2611e-04, -2.1119e-02, -4.5844e-02,\n",
       "        -9.5676e-03, -5.0777e-02,  2.0933e-02, -6.6553e-02,  3.9314e-02,\n",
       "        -1.7489e-01, -9.5698e-04, -2.5633e-02,  2.1314e-03, -1.8773e-02,\n",
       "         6.4119e-02,  9.8598e-02,  4.6638e-02, -1.6975e-01, -6.0023e-02,\n",
       "        -4.7439e-02,  2.0192e-02, -1.3516e-01, -6.1939e-02, -6.9580e-02,\n",
       "        -1.1697e-01,  4.0532e-02,  5.5579e-02, -9.2312e-02, -3.8385e-02,\n",
       "        -8.5162e-02, -1.6862e-01,  4.2299e-02, -4.1376e-02,  9.7551e-02,\n",
       "        -8.6889e-03,  7.6001e-02,  1.0268e-01, -7.5165e-02, -7.8554e-02,\n",
       "         4.1258e-02,  9.2419e-02, -1.5558e-01,  2.8051e-02,  3.5250e-02,\n",
       "         1.3974e-01,  4.1979e-02, -1.3210e-01,  4.3301e-03, -3.0688e-02,\n",
       "        -4.1683e-02, -8.0333e-02, -1.0646e-01,  4.6747e-02,  2.0595e-02,\n",
       "         5.3768e-02,  9.4365e-02,  1.1804e-01,  9.9702e-02,  4.3397e-02,\n",
       "         1.3862e-02, -1.1582e-02,  8.7398e-03,  1.9513e-02,  5.5970e-02,\n",
       "        -1.5072e-02,  2.0255e-02,  1.5233e-02, -4.2025e-02,  5.5809e-02,\n",
       "        -6.3130e-03, -4.6804e-02, -2.1812e-02,  9.8401e-04, -1.0606e-02,\n",
       "         1.2730e-02,  2.8418e-02, -2.8988e-02,  2.4180e-02,  2.0396e-02,\n",
       "        -1.2055e-03,  9.8512e-03,  4.9212e-03, -1.0881e-02, -2.1071e-02,\n",
       "         2.3005e-02,  3.8375e-02,  2.4526e-02, -3.3823e-02,  9.3019e-03,\n",
       "        -3.1573e-02,  4.7317e-02, -2.7376e-02, -1.3394e-02,  1.8158e-02,\n",
       "         3.0057e-02, -3.8782e-02, -3.3205e-02,  3.8000e-02, -1.2766e-02,\n",
       "         5.8417e-02,  3.8269e-02, -1.3387e-02,  8.4445e-03,  8.4757e-02,\n",
       "         4.4320e-02,  1.7952e-02, -7.8249e-02,  3.7360e-02,  2.7918e-02,\n",
       "         7.4705e-03, -6.2702e-02,  1.1442e-02, -1.5375e-02, -1.4134e-02,\n",
       "         2.4484e-03,  5.7435e-02, -4.6891e-02,  2.6365e-02,  7.2116e-04,\n",
       "         1.2551e-03, -3.1090e-02,  1.8119e-02, -1.2788e-02, -3.0949e-04,\n",
       "         2.7645e-02,  3.2283e-03, -1.9402e-03, -5.1127e-02,  1.3038e-02,\n",
       "        -1.7242e-02,  4.4758e-02, -2.2063e-02, -6.7703e-03,  4.9456e-02,\n",
       "         4.8197e-03, -6.0538e-03, -4.3828e-02, -3.2901e-02,  3.2516e-02,\n",
       "         1.5830e-02, -1.6259e-02, -3.2531e-02, -2.2030e-02, -1.7328e-02,\n",
       "        -1.2785e-02,  3.1519e-02,  1.2393e-02,  5.5250e-02,  4.0654e-03,\n",
       "        -3.6943e-03, -8.4574e-03,  2.9826e-02, -2.9472e-03, -3.6872e-02,\n",
       "         1.6320e-02, -5.3650e-04,  1.4449e-02, -1.8962e-02,  1.3497e-02,\n",
       "        -3.4270e-02, -2.1985e-02, -1.7597e-03, -4.9941e-02, -6.3172e-03,\n",
       "         1.4334e-02,  5.0100e-02,  2.1679e-03,  5.8197e-03, -3.8595e-02,\n",
       "        -1.6586e-02,  2.2939e-02,  2.8886e-02,  1.9896e-02, -3.7673e-02,\n",
       "        -2.6250e-03, -6.5806e-02,  1.9663e-02,  1.9024e-03, -1.5055e-03,\n",
       "         7.5707e-02,  3.3283e-02, -4.6516e-02,  5.0042e-02, -1.3466e-02,\n",
       "        -2.3745e-03,  6.2722e-03, -4.1192e-02, -5.1726e-02,  1.5826e-02,\n",
       "        -8.6318e-02,  6.0600e-03, -8.5628e-03,  1.3857e-02, -9.8054e-03,\n",
       "        -1.0130e-02, -7.7008e-03, -5.9034e-03,  2.4246e-02,  3.6874e-02,\n",
       "         2.5481e-02,  5.0552e-02,  2.7724e-02, -2.8457e-02,  6.7214e-02,\n",
       "         1.1518e-02, -3.6883e-02,  2.5647e-02,  1.8811e-02, -2.4671e-02,\n",
       "        -2.1391e-02,  2.1606e-03,  7.0599e-02,  9.3536e-04, -7.3075e-03,\n",
       "        -2.7360e-02, -3.1136e-02, -4.7778e-02,  1.7304e-03,  1.5187e-02,\n",
       "         1.2460e-02,  1.4796e-03,  3.2038e-04, -4.1723e-02,  5.4526e-02,\n",
       "        -3.0128e-02, -4.2955e-03, -4.0250e-02,  1.2212e-02, -4.5459e-02,\n",
       "        -2.7263e-02,  4.7738e-02,  3.6928e-02,  2.8379e-02,  1.9693e-02,\n",
       "        -2.9182e-02,  1.1211e-02,  3.6206e-02, -2.8934e-02, -3.6740e-02,\n",
       "        -2.1061e-02, -2.1745e-03,  4.5852e-04,  3.6400e-02,  2.4685e-02,\n",
       "        -1.6250e-02,  3.7192e-03, -9.8348e-03,  8.8218e-03, -1.0138e-02,\n",
       "        -7.2122e-03,  3.7577e-02, -1.1607e-03,  2.0853e-03, -1.2156e-02,\n",
       "        -3.0804e-02, -2.9732e-02, -3.6111e-02, -6.9415e-03,  3.9724e-02,\n",
       "        -2.8917e-02,  3.1914e-02,  4.4179e-02,  3.5895e-02,  2.3504e-02,\n",
       "         1.6797e-02, -3.9668e-02, -3.3162e-02,  4.3659e-02, -4.5372e-02,\n",
       "         5.8502e-03, -8.4308e-03, -1.5360e-02, -1.7141e-02,  1.6626e-02,\n",
       "        -6.0021e-02,  3.0815e-02,  2.7263e-02,  3.6713e-02, -1.5225e-02,\n",
       "         3.1613e-02, -8.6830e-03, -1.3078e-02, -2.6734e-02, -5.3039e-02,\n",
       "         3.6495e-02, -2.7074e-02, -2.1066e-02, -3.0800e-02, -3.4401e-02,\n",
       "        -3.0709e-02,  6.1788e-02, -7.5092e-02, -4.5867e-02, -2.9179e-02,\n",
       "        -2.3227e-02,  1.3761e-02, -7.2410e-03,  3.9838e-02,  2.3569e-02,\n",
       "         3.6269e-02, -2.3406e-02,  4.1910e-02, -1.3984e-02,  4.9593e-03,\n",
       "        -2.8459e-02, -3.6212e-02,  8.2517e-02,  4.0282e-02,  1.4138e-02,\n",
       "        -3.3678e-02, -3.3201e-02, -1.7124e-02,  1.9930e-02, -2.7715e-02,\n",
       "         7.2483e-03,  5.4847e-03,  2.2213e-03,  2.6901e-02,  3.0903e-02,\n",
       "         1.7037e-03,  2.6870e-02,  4.7098e-02, -2.3443e-02,  2.1394e-03,\n",
       "         1.1773e-02,  4.0582e-03, -2.2808e-03, -3.9582e-02,  2.8258e-02,\n",
       "         6.7655e-04,  1.1690e-02, -3.5372e-03,  7.3731e-03, -1.7001e-03,\n",
       "        -4.4967e-03,  3.9282e-02, -2.0290e-02,  2.0597e-02, -2.2476e-02,\n",
       "         5.5788e-02, -8.5223e-03,  6.0397e-03, -4.9710e-03,  4.6374e-02,\n",
       "         9.2438e-03, -8.3545e-03,  5.4590e-02, -3.5778e-02, -1.0123e-02,\n",
       "        -1.2583e-02,  1.3480e-02,  1.1810e-02,  5.3849e-02, -7.4539e-02,\n",
       "         6.5063e-02, -1.4362e-03, -1.7895e-02, -3.1505e-02,  8.5601e-03,\n",
       "         2.3881e-02,  2.1456e-02,  4.5436e-03,  4.7487e-02,  2.2066e-02,\n",
       "        -1.4675e-02, -2.3675e-02, -5.2608e-02,  1.4273e-02,  1.2924e-02,\n",
       "         3.7465e-02, -1.4781e-02, -6.0530e-03,  4.6784e-02, -4.5317e-02,\n",
       "        -4.5129e-02, -1.2690e-02,  6.2918e-02, -2.3832e-02, -4.4792e-03,\n",
       "        -3.7091e-02, -2.7282e-02, -4.0001e-02, -1.6554e-02,  2.7818e-02,\n",
       "         3.8468e-02, -1.2504e-02, -3.1183e-02, -5.7446e-02, -8.7166e-03,\n",
       "        -4.5004e-02, -4.7003e-02, -2.0860e-02,  4.2409e-02, -3.3054e-04,\n",
       "        -2.4480e-02,  5.8857e-03, -2.1869e-02, -2.4532e-02, -4.0480e-02,\n",
       "         1.9996e-02,  8.9592e-03, -4.0161e-02,  4.6652e-02, -7.2344e-03,\n",
       "         3.7414e-02, -7.4170e-03, -4.1739e-02, -3.3338e-02, -6.5192e-03,\n",
       "        -2.2114e-02, -4.3265e-02,  9.8692e-03,  5.5993e-02, -6.5014e-02,\n",
       "         8.5742e-03, -1.8887e-02, -5.0168e-03, -6.2582e-03,  1.1983e-02,\n",
       "        -1.8551e-02, -1.4143e-02, -2.9931e-02, -2.6982e-02,  1.7088e-02,\n",
       "         5.9619e-03, -2.7632e-02,  3.7183e-02, -3.4079e-02,  9.5348e-02,\n",
       "         6.8859e-02, -2.8474e-02,  1.6582e-02, -5.3166e-02,  5.7015e-03,\n",
       "        -4.0462e-02,  1.1188e-02,  5.5801e-02,  2.5066e-02,  7.4166e-03,\n",
       "         5.4553e-02,  2.5477e-02,  3.4849e-02,  3.0494e-02, -2.1460e-02,\n",
       "        -1.2572e-03, -8.9967e-03,  4.3675e-02,  5.4075e-02, -1.4786e-02,\n",
       "         9.4941e-03,  5.3547e-02, -1.6992e-02,  8.5808e-03,  8.7584e-02,\n",
       "         5.0720e-03, -3.9924e-02, -4.9578e-02, -2.0243e-02,  2.4394e-03,\n",
       "        -3.2998e-02,  1.8802e-02,  4.2574e-02, -8.1546e-03, -3.1670e-02,\n",
       "         1.9215e-02,  3.5301e-02,  3.0629e-02, -2.9016e-02, -5.8566e-03,\n",
       "        -5.5209e-03, -6.1357e-02, -2.8210e-02, -3.4754e-03,  2.6206e-02,\n",
       "         7.3576e-03,  5.0101e-02,  5.1603e-02, -1.3625e-02,  2.1096e-03,\n",
       "        -5.9919e-02, -4.5289e-03,  3.9247e-02,  8.4843e-03,  3.3774e-02,\n",
       "         2.0304e-02, -2.6231e-02, -3.5119e-02, -1.0466e-02,  1.9777e-02,\n",
       "        -1.8813e-02, -5.1920e-03,  7.5634e-03,  3.1626e-02,  6.8250e-03,\n",
       "         3.5543e-02, -5.9993e-02, -3.4362e-03, -2.8837e-02,  7.0017e-03,\n",
       "        -7.6703e-03, -1.3597e-02,  3.0484e-03, -1.4660e-02, -2.4862e-02,\n",
       "        -5.0136e-02,  9.9821e-03, -1.0362e-02, -5.2728e-04, -9.7433e-03,\n",
       "        -6.6702e-04,  2.6242e-02, -3.1655e-02, -6.4742e-03,  5.7680e-02,\n",
       "        -1.0871e-01, -7.2836e-02, -3.2105e-02,  5.3933e-03,  1.7590e-02,\n",
       "        -7.5112e-03,  1.0233e-02, -6.6682e-02,  1.8273e-02, -5.2857e-03,\n",
       "         2.4773e-02, -6.6877e-02, -7.1927e-02, -5.3189e-02, -5.9062e-02,\n",
       "         5.5548e-02,  4.3061e-02, -4.5681e-02,  7.0091e-02, -3.5954e-02,\n",
       "         2.8213e-03, -2.3353e-02,  6.0998e-02,  3.1749e-02, -1.5384e-02,\n",
       "         9.9132e-02, -4.1220e-02,  1.4880e-02,  4.3462e-02, -6.0159e-02,\n",
       "        -1.2642e-02, -7.4737e-02,  8.6276e-02, -7.2106e-02,  3.6695e-02,\n",
       "        -1.1289e-02, -5.5098e-02, -5.8218e-02, -6.2990e-02,  5.8945e-02,\n",
       "        -7.3666e-03, -1.2995e-02, -3.2083e-02,  4.7709e-02, -6.2596e-02,\n",
       "         3.9264e-02,  1.0727e-02,  5.8099e-03,  2.1568e-02,  2.5489e-02,\n",
       "        -4.4223e-02,  1.1252e-02,  6.5799e-02,  4.2711e-02,  7.5529e-02,\n",
       "         3.4020e-02,  2.9321e-02, -4.2491e-02,  3.5883e-02, -8.2680e-03,\n",
       "         1.7128e-02, -3.9261e-02, -7.8929e-03, -3.5677e-02, -3.0591e-02,\n",
       "         3.5965e-02,  2.8870e-02, -3.8834e-02, -3.5292e-02,  1.8794e-02,\n",
       "        -6.3629e-02,  6.9969e-02, -4.2690e-02,  3.8800e-03, -6.6074e-02,\n",
       "         6.5715e-03, -5.5402e-02,  9.6579e-03,  4.2492e-03,  1.9745e-02,\n",
       "         7.1505e-02, -4.4693e-02,  5.4818e-02, -1.8177e-02, -3.1507e-02,\n",
       "         4.6213e-02, -1.5728e-02,  3.0690e-02, -2.1718e-02,  3.2041e-02,\n",
       "        -7.7953e-03,  2.3453e-02, -2.1981e-02,  3.7690e-02, -4.1307e-02,\n",
       "         4.0308e-02,  4.2833e-02, -6.8647e-03,  4.0566e-02, -1.3109e-02,\n",
       "         9.4562e-03, -1.6310e-02,  2.3086e-02,  3.7856e-02,  2.3948e-02,\n",
       "         3.9914e-02, -7.3824e-02,  1.9448e-02, -6.7704e-02,  2.3103e-02,\n",
       "         2.5532e-02,  2.5307e-02,  4.3955e-03,  2.5867e-02,  2.9842e-02,\n",
       "        -4.1299e-03,  8.8230e-03,  2.9227e-02,  3.7479e-02,  2.3640e-02,\n",
       "         9.9086e-04, -2.2388e-02, -1.7768e-03,  4.0156e-02, -3.7449e-03,\n",
       "        -9.5216e-04, -2.8312e-02,  2.8375e-02, -1.5997e-02,  4.8724e-02,\n",
       "        -7.0357e-05, -4.9900e-02, -2.8172e-02, -9.2490e-03,  1.7282e-02,\n",
       "        -5.8244e-02, -2.5544e-02, -3.8488e-02, -4.7502e-03,  3.4014e-03,\n",
       "        -4.3279e-02, -5.0804e-03,  1.7579e-02, -2.2149e-02,  1.8181e-02,\n",
       "         2.4525e-02,  7.6540e-03, -3.3136e-02,  5.5459e-03, -2.0243e-02,\n",
       "        -4.7547e-03,  1.1721e-02,  1.2936e-02,  1.9216e-02,  4.7916e-02,\n",
       "         7.3795e-03, -5.5887e-02,  2.7310e-02, -5.3128e-02, -2.6022e-02,\n",
       "        -2.4504e-02,  2.0746e-02, -2.7434e-02,  2.8328e-02,  2.2382e-03,\n",
       "        -4.0530e-02,  1.1916e-02,  1.7742e-02, -7.1597e-02, -2.3883e-02,\n",
       "         1.2428e-02,  1.3315e-02, -2.0558e-02,  3.0632e-02,  2.1986e-02,\n",
       "         2.7361e-02,  4.0021e-03, -1.5840e-02, -6.8598e-03, -3.5569e-02,\n",
       "         1.0431e-02,  3.9925e-02,  1.1222e-02,  3.0151e-02,  4.3051e-03,\n",
       "        -2.1772e-04, -2.1343e-02, -1.7348e-02,  7.0372e-02,  2.1041e-02,\n",
       "        -3.2367e-02,  5.7963e-03,  1.5324e-02,  1.7108e-02,  1.3881e-02,\n",
       "         5.7314e-02,  6.4863e-02, -4.4507e-02, -2.5139e-02, -9.1441e-03,\n",
       "         2.5262e-03,  4.5667e-02, -2.3500e-02, -3.7513e-03, -1.9957e-03,\n",
       "        -3.6575e-03,  1.6749e-02,  1.2299e-02,  3.3526e-02, -2.8714e-03,\n",
       "        -1.0888e-02, -3.4237e-02,  2.8493e-02,  2.1023e-02, -3.8242e-02,\n",
       "         1.4689e-02, -1.9803e-02,  3.3397e-02, -4.1851e-03,  2.1777e-03,\n",
       "        -1.5523e-02,  3.6064e-02, -1.0864e-02, -2.3695e-02, -7.0154e-02,\n",
       "         1.6196e-02,  1.7390e-02, -1.6748e-02,  2.2664e-02,  6.5926e-03,\n",
       "         1.1212e-02,  2.2210e-02,  1.4621e-02, -2.3452e-02, -7.5954e-03,\n",
       "        -7.5145e-03, -1.1545e-02, -4.8740e-03,  1.8768e-02, -7.6446e-03,\n",
       "        -1.7383e-02,  1.7065e-02,  3.5995e-02, -1.7716e-02,  2.8052e-02,\n",
       "        -3.5515e-02,  4.0552e-02,  1.6000e-02, -1.8359e-02, -2.0858e-02,\n",
       "         1.2785e-02, -3.3876e-02, -9.2886e-03,  6.7134e-03,  5.9439e-02,\n",
       "        -9.2438e-02,  5.2098e-02, -9.8536e-03, -2.0621e-02, -1.7825e-02,\n",
       "        -2.6076e-02,  2.4989e-02, -1.8754e-02, -1.5920e-02, -5.9590e-02,\n",
       "        -3.2656e-02, -3.3578e-02,  8.9655e-03, -7.7932e-02,  2.0422e-02,\n",
       "        -1.5966e-03, -1.0267e-01, -3.7150e-02, -1.1857e-02, -5.5967e-02,\n",
       "         2.8798e-02, -9.9421e-02, -1.9114e-02,  7.9363e-02,  4.5456e-02,\n",
       "         1.2238e-02, -2.2293e-02, -1.9021e-02, -4.5098e-02,  5.7551e-02,\n",
       "        -2.2903e-02,  1.2050e-02, -1.9754e-02, -1.3659e-02,  2.7197e-02,\n",
       "         4.1873e-02, -4.3039e-02, -1.0246e-02, -3.3627e-02,  3.9019e-02],\n",
       "       device='cuda:0')"
      ]
     },
     "execution_count": 9,
     "metadata": {},
     "output_type": "execute_result"
    }
   ],
   "source": [
    "model_dict['module.murel_cell.fusion_features.linear0.bias']"
   ]
  },
  {
   "cell_type": "code",
   "execution_count": 4,
   "metadata": {},
   "outputs": [
    {
     "ename": "RuntimeError",
     "evalue": "Error(s) in loading state_dict for MurelNet:\n\tMissing key(s) in state_dict: \"murel_cell.fusion_features.linear0.bias\", \"murel_cell.fusion_features.linear0.weight\", \"murel_cell.fusion_features.linear1.bias\", \"murel_cell.fusion_features.linear1.weight\", \"murel_cell.fusion_features.merge_linears0.0.bias\", \"murel_cell.fusion_features.merge_linears0.0.weight\", \"murel_cell.fusion_features.merge_linears0.1.bias\", \"murel_cell.fusion_features.merge_linears0.1.weight\", \"murel_cell.fusion_features.merge_linears0.2.bias\", \"murel_cell.fusion_features.merge_linears0.2.weight\", \"murel_cell.fusion_features.merge_linears0.3.bias\", \"murel_cell.fusion_features.merge_linears0.3.weight\", \"murel_cell.fusion_features.merge_linears0.4.bias\", \"murel_cell.fusion_features.merge_linears0.4.weight\", \"murel_cell.fusion_features.merge_linears0.5.bias\", \"murel_cell.fusion_features.merge_linears0.5.weight\", \"murel_cell.fusion_features.merge_linears0.6.bias\", \"murel_cell.fusion_features.merge_linears0.6.weight\", \"murel_cell.fusion_features.merge_linears0.7.bias\", \"murel_cell.fusion_features.merge_linears0.7.weight\", \"murel_cell.fusion_features.merge_linears0.8.bias\", \"murel_cell.fusion_features.merge_linears0.8.weight\", \"murel_cell.fusion_features.merge_linears0.9.bias\", \"murel_cell.fusion_features.merge_linears0.9.weight\", \"murel_cell.fusion_features.merge_linears0.10.bias\", \"murel_cell.fusion_features.merge_linears0.10.weight\", \"murel_cell.fusion_features.merge_linears0.11.bias\", \"murel_cell.fusion_features.merge_linears0.11.weight\", \"murel_cell.fusion_features.merge_linears0.12.bias\", \"murel_cell.fusion_features.merge_linears0.12.weight\", \"murel_cell.fusion_features.merge_linears0.13.bias\", \"murel_cell.fusion_features.merge_linears0.13.weight\", \"murel_cell.fusion_features.merge_linears0.14.bias\", \"murel_cell.fusion_features.merge_linears0.14.weight\", \"murel_cell.fusion_features.merge_linears0.15.bias\", \"murel_cell.fusion_features.merge_linears0.15.weight\", \"murel_cell.fusion_features.merge_linears0.16.bias\", \"murel_cell.fusion_features.merge_linears0.16.weight\", \"murel_cell.fusion_features.merge_linears0.17.bias\", \"murel_cell.fusion_features.merge_linears0.17.weight\", \"murel_cell.fusion_features.merge_linears0.18.bias\", \"murel_cell.fusion_features.merge_linears0.18.weight\", \"murel_cell.fusion_features.merge_linears0.19.bias\", \"murel_cell.fusion_features.merge_linears0.19.weight\", \"murel_cell.fusion_features.merge_linears1.0.bias\", \"murel_cell.fusion_features.merge_linears1.0.weight\", \"murel_cell.fusion_features.merge_linears1.1.bias\", \"murel_cell.fusion_features.merge_linears1.1.weight\", \"murel_cell.fusion_features.merge_linears1.2.bias\", \"murel_cell.fusion_features.merge_linears1.2.weight\", \"murel_cell.fusion_features.merge_linears1.3.bias\", \"murel_cell.fusion_features.merge_linears1.3.weight\", \"murel_cell.fusion_features.merge_linears1.4.bias\", \"murel_cell.fusion_features.merge_linears1.4.weight\", \"murel_cell.fusion_features.merge_linears1.5.bias\", \"murel_cell.fusion_features.merge_linears1.5.weight\", \"murel_cell.fusion_features.merge_linears1.6.bias\", \"murel_cell.fusion_features.merge_linears1.6.weight\", \"murel_cell.fusion_features.merge_linears1.7.bias\", \"murel_cell.fusion_features.merge_linears1.7.weight\", \"murel_cell.fusion_features.merge_linears1.8.bias\", \"murel_cell.fusion_features.merge_linears1.8.weight\", \"murel_cell.fusion_features.merge_linears1.9.bias\", \"murel_cell.fusion_features.merge_linears1.9.weight\", \"murel_cell.fusion_features.merge_linears1.10.bias\", \"murel_cell.fusion_features.merge_linears1.10.weight\", \"murel_cell.fusion_features.merge_linears1.11.bias\", \"murel_cell.fusion_features.merge_linears1.11.weight\", \"murel_cell.fusion_features.merge_linears1.12.bias\", \"murel_cell.fusion_features.merge_linears1.12.weight\", \"murel_cell.fusion_features.merge_linears1.13.bias\", \"murel_cell.fusion_features.merge_linears1.13.weight\", \"murel_cell.fusion_features.merge_linears1.14.bias\", \"murel_cell.fusion_features.merge_linears1.14.weight\", \"murel_cell.fusion_features.merge_linears1.15.bias\", \"murel_cell.fusion_features.merge_linears1.15.weight\", \"murel_cell.fusion_features.merge_linears1.16.bias\", \"murel_cell.fusion_features.merge_linears1.16.weight\", \"murel_cell.fusion_features.merge_linears1.17.bias\", \"murel_cell.fusion_features.merge_linears1.17.weight\", \"murel_cell.fusion_features.merge_linears1.18.bias\", \"murel_cell.fusion_features.merge_linears1.18.weight\", \"murel_cell.fusion_features.merge_linears1.19.bias\", \"murel_cell.fusion_features.merge_linears1.19.weight\", \"murel_cell.fusion_features.linear_out.bias\", \"murel_cell.fusion_features.linear_out.weight\", \"murel_cell.fusion_box.linear0.bias\", \"murel_cell.fusion_box.linear0.weight\", \"murel_cell.fusion_box.linear1.bias\", \"murel_cell.fusion_box.linear1.weight\", \"murel_cell.fusion_box.merge_linears0.0.bias\", \"murel_cell.fusion_box.merge_linears0.0.weight\", \"murel_cell.fusion_box.merge_linears0.1.bias\", \"murel_cell.fusion_box.merge_linears0.1.weight\", \"murel_cell.fusion_box.merge_linears0.2.bias\", \"murel_cell.fusion_box.merge_linears0.2.weight\", \"murel_cell.fusion_box.merge_linears0.3.bias\", \"murel_cell.fusion_box.merge_linears0.3.weight\", \"murel_cell.fusion_box.merge_linears0.4.bias\", \"murel_cell.fusion_box.merge_linears0.4.weight\", \"murel_cell.fusion_box.merge_linears1.0.bias\", \"murel_cell.fusion_box.merge_linears1.0.weight\", \"murel_cell.fusion_box.merge_linears1.1.bias\", \"murel_cell.fusion_box.merge_linears1.1.weight\", \"murel_cell.fusion_box.merge_linears1.2.bias\", \"murel_cell.fusion_box.merge_linears1.2.weight\", \"murel_cell.fusion_box.merge_linears1.3.bias\", \"murel_cell.fusion_box.merge_linears1.3.weight\", \"murel_cell.fusion_box.merge_linears1.4.bias\", \"murel_cell.fusion_box.merge_linears1.4.weight\", \"murel_cell.fusion_box.linear_out.bias\", \"murel_cell.fusion_box.linear_out.weight\", \"murel_cell.fusion_fused.linear0.bias\", \"murel_cell.fusion_fused.linear0.weight\", \"murel_cell.fusion_fused.linear1.bias\", \"murel_cell.fusion_fused.linear1.weight\", \"murel_cell.fusion_fused.merge_linears0.0.bias\", \"murel_cell.fusion_fused.merge_linears0.0.weight\", \"murel_cell.fusion_fused.merge_linears0.1.bias\", \"murel_cell.fusion_fused.merge_linears0.1.weight\", \"murel_cell.fusion_fused.merge_linears0.2.bias\", \"murel_cell.fusion_fused.merge_linears0.2.weight\", \"murel_cell.fusion_fused.merge_linears0.3.bias\", \"murel_cell.fusion_fused.merge_linears0.3.weight\", \"murel_cell.fusion_fused.merge_linears0.4.bias\", \"murel_cell.fusion_fused.merge_linears0.4.weight\", \"murel_cell.fusion_fused.merge_linears1.0.bias\", \"murel_cell.fusion_fused.merge_linears1.0.weight\", \"murel_cell.fusion_fused.merge_linears1.1.bias\", \"murel_cell.fusion_fused.merge_linears1.1.weight\", \"murel_cell.fusion_fused.merge_linears1.2.bias\", \"murel_cell.fusion_fused.merge_linears1.2.weight\", \"murel_cell.fusion_fused.merge_linears1.3.bias\", \"murel_cell.fusion_fused.merge_linears1.3.weight\", \"murel_cell.fusion_fused.merge_linears1.4.bias\", \"murel_cell.fusion_fused.merge_linears1.4.weight\", \"murel_cell.fusion_fused.linear_out.bias\", \"murel_cell.fusion_fused.linear_out.weight\", \"final_fusion.linear0.bias\", \"final_fusion.linear0.weight\", \"final_fusion.linear1.bias\", \"final_fusion.linear1.weight\", \"final_fusion.merge_linears0.0.bias\", \"final_fusion.merge_linears0.0.weight\", \"final_fusion.merge_linears0.1.bias\", \"final_fusion.merge_linears0.1.weight\", \"final_fusion.merge_linears0.2.bias\", \"final_fusion.merge_linears0.2.weight\", \"final_fusion.merge_linears0.3.bias\", \"final_fusion.merge_linears0.3.weight\", \"final_fusion.merge_linears0.4.bias\", \"final_fusion.merge_linears0.4.weight\", \"final_fusion.merge_linears0.5.bias\", \"final_fusion.merge_linears0.5.weight\", \"final_fusion.merge_linears0.6.bias\", \"final_fusion.merge_linears0.6.weight\", \"final_fusion.merge_linears0.7.bias\", \"final_fusion.merge_linears0.7.weight\", \"final_fusion.merge_linears0.8.bias\", \"final_fusion.merge_linears0.8.weight\", \"final_fusion.merge_linears0.9.bias\", \"final_fusion.merge_linears0.9.weight\", \"final_fusion.merge_linears0.10.bias\", \"final_fusion.merge_linears0.10.weight\", \"final_fusion.merge_linears0.11.bias\", \"final_fusion.merge_linears0.11.weight\", \"final_fusion.merge_linears0.12.bias\", \"final_fusion.merge_linears0.12.weight\", \"final_fusion.merge_linears0.13.bias\", \"final_fusion.merge_linears0.13.weight\", \"final_fusion.merge_linears0.14.bias\", \"final_fusion.merge_linears0.14.weight\", \"final_fusion.merge_linears0.15.bias\", \"final_fusion.merge_linears0.15.weight\", \"final_fusion.merge_linears0.16.bias\", \"final_fusion.merge_linears0.16.weight\", \"final_fusion.merge_linears0.17.bias\", \"final_fusion.merge_linears0.17.weight\", \"final_fusion.merge_linears0.18.bias\", \"final_fusion.merge_linears0.18.weight\", \"final_fusion.merge_linears0.19.bias\", \"final_fusion.merge_linears0.19.weight\", \"final_fusion.merge_linears1.0.bias\", \"final_fusion.merge_linears1.0.weight\", \"final_fusion.merge_linears1.1.bias\", \"final_fusion.merge_linears1.1.weight\", \"final_fusion.merge_linears1.2.bias\", \"final_fusion.merge_linears1.2.weight\", \"final_fusion.merge_linears1.3.bias\", \"final_fusion.merge_linears1.3.weight\", \"final_fusion.merge_linears1.4.bias\", \"final_fusion.merge_linears1.4.weight\", \"final_fusion.merge_linears1.5.bias\", \"final_fusion.merge_linears1.5.weight\", \"final_fusion.merge_linears1.6.bias\", \"final_fusion.merge_linears1.6.weight\", \"final_fusion.merge_linears1.7.bias\", \"final_fusion.merge_linears1.7.weight\", \"final_fusion.merge_linears1.8.bias\", \"final_fusion.merge_linears1.8.weight\", \"final_fusion.merge_linears1.9.bias\", \"final_fusion.merge_linears1.9.weight\", \"final_fusion.merge_linears1.10.bias\", \"final_fusion.merge_linears1.10.weight\", \"final_fusion.merge_linears1.11.bias\", \"final_fusion.merge_linears1.11.weight\", \"final_fusion.merge_linears1.12.bias\", \"final_fusion.merge_linears1.12.weight\", \"final_fusion.merge_linears1.13.bias\", \"final_fusion.merge_linears1.13.weight\", \"final_fusion.merge_linears1.14.bias\", \"final_fusion.merge_linears1.14.weight\", \"final_fusion.merge_linears1.15.bias\", \"final_fusion.merge_linears1.15.weight\", \"final_fusion.merge_linears1.16.bias\", \"final_fusion.merge_linears1.16.weight\", \"final_fusion.merge_linears1.17.bias\", \"final_fusion.merge_linears1.17.weight\", \"final_fusion.merge_linears1.18.bias\", \"final_fusion.merge_linears1.18.weight\", \"final_fusion.merge_linears1.19.bias\", \"final_fusion.merge_linears1.19.weight\", \"final_fusion.linear_out.bias\", \"final_fusion.linear_out.weight\". \n\tUnexpected key(s) in state_dict: \"module.murel_cell.fusion_features.linear0.weight\", \"module.murel_cell.fusion_features.linear0.bias\", \"module.murel_cell.fusion_features.linear1.weight\", \"module.murel_cell.fusion_features.linear1.bias\", \"module.murel_cell.fusion_features.merge_linears0.0.weight\", \"module.murel_cell.fusion_features.merge_linears0.0.bias\", \"module.murel_cell.fusion_features.merge_linears0.1.weight\", \"module.murel_cell.fusion_features.merge_linears0.1.bias\", \"module.murel_cell.fusion_features.merge_linears0.2.weight\", \"module.murel_cell.fusion_features.merge_linears0.2.bias\", \"module.murel_cell.fusion_features.merge_linears0.3.weight\", \"module.murel_cell.fusion_features.merge_linears0.3.bias\", \"module.murel_cell.fusion_features.merge_linears0.4.weight\", \"module.murel_cell.fusion_features.merge_linears0.4.bias\", \"module.murel_cell.fusion_features.merge_linears0.5.weight\", \"module.murel_cell.fusion_features.merge_linears0.5.bias\", \"module.murel_cell.fusion_features.merge_linears0.6.weight\", \"module.murel_cell.fusion_features.merge_linears0.6.bias\", \"module.murel_cell.fusion_features.merge_linears0.7.weight\", \"module.murel_cell.fusion_features.merge_linears0.7.bias\", \"module.murel_cell.fusion_features.merge_linears0.8.weight\", \"module.murel_cell.fusion_features.merge_linears0.8.bias\", \"module.murel_cell.fusion_features.merge_linears0.9.weight\", \"module.murel_cell.fusion_features.merge_linears0.9.bias\", \"module.murel_cell.fusion_features.merge_linears0.10.weight\", \"module.murel_cell.fusion_features.merge_linears0.10.bias\", \"module.murel_cell.fusion_features.merge_linears0.11.weight\", \"module.murel_cell.fusion_features.merge_linears0.11.bias\", \"module.murel_cell.fusion_features.merge_linears0.12.weight\", \"module.murel_cell.fusion_features.merge_linears0.12.bias\", \"module.murel_cell.fusion_features.merge_linears0.13.weight\", \"module.murel_cell.fusion_features.merge_linears0.13.bias\", \"module.murel_cell.fusion_features.merge_linears0.14.weight\", \"module.murel_cell.fusion_features.merge_linears0.14.bias\", \"module.murel_cell.fusion_features.merge_linears0.15.weight\", \"module.murel_cell.fusion_features.merge_linears0.15.bias\", \"module.murel_cell.fusion_features.merge_linears0.16.weight\", \"module.murel_cell.fusion_features.merge_linears0.16.bias\", \"module.murel_cell.fusion_features.merge_linears0.17.weight\", \"module.murel_cell.fusion_features.merge_linears0.17.bias\", \"module.murel_cell.fusion_features.merge_linears0.18.weight\", \"module.murel_cell.fusion_features.merge_linears0.18.bias\", \"module.murel_cell.fusion_features.merge_linears0.19.weight\", \"module.murel_cell.fusion_features.merge_linears0.19.bias\", \"module.murel_cell.fusion_features.merge_linears1.0.weight\", \"module.murel_cell.fusion_features.merge_linears1.0.bias\", \"module.murel_cell.fusion_features.merge_linears1.1.weight\", \"module.murel_cell.fusion_features.merge_linears1.1.bias\", \"module.murel_cell.fusion_features.merge_linears1.2.weight\", \"module.murel_cell.fusion_features.merge_linears1.2.bias\", \"module.murel_cell.fusion_features.merge_linears1.3.weight\", \"module.murel_cell.fusion_features.merge_linears1.3.bias\", \"module.murel_cell.fusion_features.merge_linears1.4.weight\", \"module.murel_cell.fusion_features.merge_linears1.4.bias\", \"module.murel_cell.fusion_features.merge_linears1.5.weight\", \"module.murel_cell.fusion_features.merge_linears1.5.bias\", \"module.murel_cell.fusion_features.merge_linears1.6.weight\", \"module.murel_cell.fusion_features.merge_linears1.6.bias\", \"module.murel_cell.fusion_features.merge_linears1.7.weight\", \"module.murel_cell.fusion_features.merge_linears1.7.bias\", \"module.murel_cell.fusion_features.merge_linears1.8.weight\", \"module.murel_cell.fusion_features.merge_linears1.8.bias\", \"module.murel_cell.fusion_features.merge_linears1.9.weight\", \"module.murel_cell.fusion_features.merge_linears1.9.bias\", \"module.murel_cell.fusion_features.merge_linears1.10.weight\", \"module.murel_cell.fusion_features.merge_linears1.10.bias\", \"module.murel_cell.fusion_features.merge_linears1.11.weight\", \"module.murel_cell.fusion_features.merge_linears1.11.bias\", \"module.murel_cell.fusion_features.merge_linears1.12.weight\", \"module.murel_cell.fusion_features.merge_linears1.12.bias\", \"module.murel_cell.fusion_features.merge_linears1.13.weight\", \"module.murel_cell.fusion_features.merge_linears1.13.bias\", \"module.murel_cell.fusion_features.merge_linears1.14.weight\", \"module.murel_cell.fusion_features.merge_linears1.14.bias\", \"module.murel_cell.fusion_features.merge_linears1.15.weight\", \"module.murel_cell.fusion_features.merge_linears1.15.bias\", \"module.murel_cell.fusion_features.merge_linears1.16.weight\", \"module.murel_cell.fusion_features.merge_linears1.16.bias\", \"module.murel_cell.fusion_features.merge_linears1.17.weight\", \"module.murel_cell.fusion_features.merge_linears1.17.bias\", \"module.murel_cell.fusion_features.merge_linears1.18.weight\", \"module.murel_cell.fusion_features.merge_linears1.18.bias\", \"module.murel_cell.fusion_features.merge_linears1.19.weight\", \"module.murel_cell.fusion_features.merge_linears1.19.bias\", \"module.murel_cell.fusion_features.linear_out.weight\", \"module.murel_cell.fusion_features.linear_out.bias\", \"module.murel_cell.fusion_box.linear0.weight\", \"module.murel_cell.fusion_box.linear0.bias\", \"module.murel_cell.fusion_box.linear1.weight\", \"module.murel_cell.fusion_box.linear1.bias\", \"module.murel_cell.fusion_box.merge_linears0.0.weight\", \"module.murel_cell.fusion_box.merge_linears0.0.bias\", \"module.murel_cell.fusion_box.merge_linears0.1.weight\", \"module.murel_cell.fusion_box.merge_linears0.1.bias\", \"module.murel_cell.fusion_box.merge_linears0.2.weight\", \"module.murel_cell.fusion_box.merge_linears0.2.bias\", \"module.murel_cell.fusion_box.merge_linears0.3.weight\", \"module.murel_cell.fusion_box.merge_linears0.3.bias\", \"module.murel_cell.fusion_box.merge_linears0.4.weight\", \"module.murel_cell.fusion_box.merge_linears0.4.bias\", \"module.murel_cell.fusion_box.merge_linears1.0.weight\", \"module.murel_cell.fusion_box.merge_linears1.0.bias\", \"module.murel_cell.fusion_box.merge_linears1.1.weight\", \"module.murel_cell.fusion_box.merge_linears1.1.bias\", \"module.murel_cell.fusion_box.merge_linears1.2.weight\", \"module.murel_cell.fusion_box.merge_linears1.2.bias\", \"module.murel_cell.fusion_box.merge_linears1.3.weight\", \"module.murel_cell.fusion_box.merge_linears1.3.bias\", \"module.murel_cell.fusion_box.merge_linears1.4.weight\", \"module.murel_cell.fusion_box.merge_linears1.4.bias\", \"module.murel_cell.fusion_box.linear_out.weight\", \"module.murel_cell.fusion_box.linear_out.bias\", \"module.murel_cell.fusion_fused.linear0.weight\", \"module.murel_cell.fusion_fused.linear0.bias\", \"module.murel_cell.fusion_fused.linear1.weight\", \"module.murel_cell.fusion_fused.linear1.bias\", \"module.murel_cell.fusion_fused.merge_linears0.0.weight\", \"module.murel_cell.fusion_fused.merge_linears0.0.bias\", \"module.murel_cell.fusion_fused.merge_linears0.1.weight\", \"module.murel_cell.fusion_fused.merge_linears0.1.bias\", \"module.murel_cell.fusion_fused.merge_linears0.2.weight\", \"module.murel_cell.fusion_fused.merge_linears0.2.bias\", \"module.murel_cell.fusion_fused.merge_linears0.3.weight\", \"module.murel_cell.fusion_fused.merge_linears0.3.bias\", \"module.murel_cell.fusion_fused.merge_linears0.4.weight\", \"module.murel_cell.fusion_fused.merge_linears0.4.bias\", \"module.murel_cell.fusion_fused.merge_linears1.0.weight\", \"module.murel_cell.fusion_fused.merge_linears1.0.bias\", \"module.murel_cell.fusion_fused.merge_linears1.1.weight\", \"module.murel_cell.fusion_fused.merge_linears1.1.bias\", \"module.murel_cell.fusion_fused.merge_linears1.2.weight\", \"module.murel_cell.fusion_fused.merge_linears1.2.bias\", \"module.murel_cell.fusion_fused.merge_linears1.3.weight\", \"module.murel_cell.fusion_fused.merge_linears1.3.bias\", \"module.murel_cell.fusion_fused.merge_linears1.4.weight\", \"module.murel_cell.fusion_fused.merge_linears1.4.bias\", \"module.murel_cell.fusion_fused.linear_out.weight\", \"module.murel_cell.fusion_fused.linear_out.bias\", \"module.final_fusion.linear0.weight\", \"module.final_fusion.linear0.bias\", \"module.final_fusion.linear1.weight\", \"module.final_fusion.linear1.bias\", \"module.final_fusion.merge_linears0.0.weight\", \"module.final_fusion.merge_linears0.0.bias\", \"module.final_fusion.merge_linears0.1.weight\", \"module.final_fusion.merge_linears0.1.bias\", \"module.final_fusion.merge_linears0.2.weight\", \"module.final_fusion.merge_linears0.2.bias\", \"module.final_fusion.merge_linears0.3.weight\", \"module.final_fusion.merge_linears0.3.bias\", \"module.final_fusion.merge_linears0.4.weight\", \"module.final_fusion.merge_linears0.4.bias\", \"module.final_fusion.merge_linears0.5.weight\", \"module.final_fusion.merge_linears0.5.bias\", \"module.final_fusion.merge_linears0.6.weight\", \"module.final_fusion.merge_linears0.6.bias\", \"module.final_fusion.merge_linears0.7.weight\", \"module.final_fusion.merge_linears0.7.bias\", \"module.final_fusion.merge_linears0.8.weight\", \"module.final_fusion.merge_linears0.8.bias\", \"module.final_fusion.merge_linears0.9.weight\", \"module.final_fusion.merge_linears0.9.bias\", \"module.final_fusion.merge_linears0.10.weight\", \"module.final_fusion.merge_linears0.10.bias\", \"module.final_fusion.merge_linears0.11.weight\", \"module.final_fusion.merge_linears0.11.bias\", \"module.final_fusion.merge_linears0.12.weight\", \"module.final_fusion.merge_linears0.12.bias\", \"module.final_fusion.merge_linears0.13.weight\", \"module.final_fusion.merge_linears0.13.bias\", \"module.final_fusion.merge_linears0.14.weight\", \"module.final_fusion.merge_linears0.14.bias\", \"module.final_fusion.merge_linears0.15.weight\", \"module.final_fusion.merge_linears0.15.bias\", \"module.final_fusion.merge_linears0.16.weight\", \"module.final_fusion.merge_linears0.16.bias\", \"module.final_fusion.merge_linears0.17.weight\", \"module.final_fusion.merge_linears0.17.bias\", \"module.final_fusion.merge_linears0.18.weight\", \"module.final_fusion.merge_linears0.18.bias\", \"module.final_fusion.merge_linears0.19.weight\", \"module.final_fusion.merge_linears0.19.bias\", \"module.final_fusion.merge_linears1.0.weight\", \"module.final_fusion.merge_linears1.0.bias\", \"module.final_fusion.merge_linears1.1.weight\", \"module.final_fusion.merge_linears1.1.bias\", \"module.final_fusion.merge_linears1.2.weight\", \"module.final_fusion.merge_linears1.2.bias\", \"module.final_fusion.merge_linears1.3.weight\", \"module.final_fusion.merge_linears1.3.bias\", \"module.final_fusion.merge_linears1.4.weight\", \"module.final_fusion.merge_linears1.4.bias\", \"module.final_fusion.merge_linears1.5.weight\", \"module.final_fusion.merge_linears1.5.bias\", \"module.final_fusion.merge_linears1.6.weight\", \"module.final_fusion.merge_linears1.6.bias\", \"module.final_fusion.merge_linears1.7.weight\", \"module.final_fusion.merge_linears1.7.bias\", \"module.final_fusion.merge_linears1.8.weight\", \"module.final_fusion.merge_linears1.8.bias\", \"module.final_fusion.merge_linears1.9.weight\", \"module.final_fusion.merge_linears1.9.bias\", \"module.final_fusion.merge_linears1.10.weight\", \"module.final_fusion.merge_linears1.10.bias\", \"module.final_fusion.merge_linears1.11.weight\", \"module.final_fusion.merge_linears1.11.bias\", \"module.final_fusion.merge_linears1.12.weight\", \"module.final_fusion.merge_linears1.12.bias\", \"module.final_fusion.merge_linears1.13.weight\", \"module.final_fusion.merge_linears1.13.bias\", \"module.final_fusion.merge_linears1.14.weight\", \"module.final_fusion.merge_linears1.14.bias\", \"module.final_fusion.merge_linears1.15.weight\", \"module.final_fusion.merge_linears1.15.bias\", \"module.final_fusion.merge_linears1.16.weight\", \"module.final_fusion.merge_linears1.16.bias\", \"module.final_fusion.merge_linears1.17.weight\", \"module.final_fusion.merge_linears1.17.bias\", \"module.final_fusion.merge_linears1.18.weight\", \"module.final_fusion.merge_linears1.18.bias\", \"module.final_fusion.merge_linears1.19.weight\", \"module.final_fusion.merge_linears1.19.bias\", \"module.final_fusion.linear_out.weight\", \"module.final_fusion.linear_out.bias\". ",
     "output_type": "error",
     "traceback": [
      "\u001b[0;31m---------------------------------------------------------------------------\u001b[0m",
      "\u001b[0;31mRuntimeError\u001b[0m                              Traceback (most recent call last)",
      "\u001b[0;32m<ipython-input-4-fccc919b7e59>\u001b[0m in \u001b[0;36m<module>\u001b[0;34m\u001b[0m\n\u001b[0;32m----> 1\u001b[0;31m \u001b[0mmodel\u001b[0m \u001b[0;34m=\u001b[0m \u001b[0mmodel\u001b[0m\u001b[0;34m.\u001b[0m\u001b[0mload_state_dict\u001b[0m\u001b[0;34m(\u001b[0m\u001b[0mtorch\u001b[0m\u001b[0;34m.\u001b[0m\u001b[0mload\u001b[0m\u001b[0;34m(\u001b[0m\u001b[0;34m'/auto/homes/bat34/VQA_PartII/murel/trained_models/murel_txt_enc_BayesianUniSkip_batch_size_84_lr_0.0003_lr_decay_rate_0.25_unroll_steps_3_fusion_type_block_accuracy_0.36200476471784543_epoch_4.pth'\u001b[0m\u001b[0;34m)\u001b[0m\u001b[0;34m)\u001b[0m\u001b[0;34m\u001b[0m\u001b[0m\n\u001b[0m",
      "\u001b[0;32m~/venv/lib/python3.5/site-packages/torch/nn/modules/module.py\u001b[0m in \u001b[0;36mload_state_dict\u001b[0;34m(self, state_dict, strict)\u001b[0m\n\u001b[1;32m    837\u001b[0m         \u001b[0;32mif\u001b[0m \u001b[0mlen\u001b[0m\u001b[0;34m(\u001b[0m\u001b[0merror_msgs\u001b[0m\u001b[0;34m)\u001b[0m \u001b[0;34m>\u001b[0m \u001b[0;36m0\u001b[0m\u001b[0;34m:\u001b[0m\u001b[0;34m\u001b[0m\u001b[0m\n\u001b[1;32m    838\u001b[0m             raise RuntimeError('Error(s) in loading state_dict for {}:\\n\\t{}'.format(\n\u001b[0;32m--> 839\u001b[0;31m                                self.__class__.__name__, \"\\n\\t\".join(error_msgs)))\n\u001b[0m\u001b[1;32m    840\u001b[0m         \u001b[0;32mreturn\u001b[0m \u001b[0m_IncompatibleKeys\u001b[0m\u001b[0;34m(\u001b[0m\u001b[0mmissing_keys\u001b[0m\u001b[0;34m,\u001b[0m \u001b[0munexpected_keys\u001b[0m\u001b[0;34m)\u001b[0m\u001b[0;34m\u001b[0m\u001b[0m\n\u001b[1;32m    841\u001b[0m \u001b[0;34m\u001b[0m\u001b[0m\n",
      "\u001b[0;31mRuntimeError\u001b[0m: Error(s) in loading state_dict for MurelNet:\n\tMissing key(s) in state_dict: \"murel_cell.fusion_features.linear0.bias\", \"murel_cell.fusion_features.linear0.weight\", \"murel_cell.fusion_features.linear1.bias\", \"murel_cell.fusion_features.linear1.weight\", \"murel_cell.fusion_features.merge_linears0.0.bias\", \"murel_cell.fusion_features.merge_linears0.0.weight\", \"murel_cell.fusion_features.merge_linears0.1.bias\", \"murel_cell.fusion_features.merge_linears0.1.weight\", \"murel_cell.fusion_features.merge_linears0.2.bias\", \"murel_cell.fusion_features.merge_linears0.2.weight\", \"murel_cell.fusion_features.merge_linears0.3.bias\", \"murel_cell.fusion_features.merge_linears0.3.weight\", \"murel_cell.fusion_features.merge_linears0.4.bias\", \"murel_cell.fusion_features.merge_linears0.4.weight\", \"murel_cell.fusion_features.merge_linears0.5.bias\", \"murel_cell.fusion_features.merge_linears0.5.weight\", \"murel_cell.fusion_features.merge_linears0.6.bias\", \"murel_cell.fusion_features.merge_linears0.6.weight\", \"murel_cell.fusion_features.merge_linears0.7.bias\", \"murel_cell.fusion_features.merge_linears0.7.weight\", \"murel_cell.fusion_features.merge_linears0.8.bias\", \"murel_cell.fusion_features.merge_linears0.8.weight\", \"murel_cell.fusion_features.merge_linears0.9.bias\", \"murel_cell.fusion_features.merge_linears0.9.weight\", \"murel_cell.fusion_features.merge_linears0.10.bias\", \"murel_cell.fusion_features.merge_linears0.10.weight\", \"murel_cell.fusion_features.merge_linears0.11.bias\", \"murel_cell.fusion_features.merge_linears0.11.weight\", \"murel_cell.fusion_features.merge_linears0.12.bias\", \"murel_cell.fusion_features.merge_linears0.12.weight\", \"murel_cell.fusion_features.merge_linears0.13.bias\", \"murel_cell.fusion_features.merge_linears0.13.weight\", \"murel_cell.fusion_features.merge_linears0.14.bias\", \"murel_cell.fusion_features.merge_linears0.14.weight\", \"murel_cell.fusion_features.merge_linears0.15.bias\", \"murel_cell.fusion_features.merge_linears0.15.weight\", \"murel_cell.fusion_features.merge_linears0.16.bias\", \"murel_cell.fusion_features.merge_linears0.16.weight\", \"murel_cell.fusion_features.merge_linears0.17.bias\", \"murel_cell.fusion_features.merge_linears0.17.weight\", \"murel_cell.fusion_features.merge_linears0.18.bias\", \"murel_cell.fusion_features.merge_linears0.18.weight\", \"murel_cell.fusion_features.merge_linears0.19.bias\", \"murel_cell.fusion_features.merge_linears0.19.weight\", \"murel_cell.fusion_features.merge_linears1.0.bias\", \"murel_cell.fusion_features.merge_linears1.0.weight\", \"murel_cell.fusion_features.merge_linears1.1.bias\", \"murel_cell.fusion_features.merge_linears1.1.weight\", \"murel_cell.fusion_features.merge_linears1.2.bias\", \"murel_cell.fusion_features.merge_linears1.2.weight\", \"murel_cell.fusion_features.merge_linears1.3.bias\", \"murel_cell.fusion_features.merge_linears1.3.weight\", \"murel_cell.fusion_features.merge_linears1.4.bias\", \"murel_cell.fusion_features.merge_linears1.4.weight\", \"murel_cell.fusion_features.merge_linears1.5.bias\", \"murel_cell.fusion_features.merge_linears1.5.weight\", \"murel_cell.fusion_features.merge_linears1.6.bias\", \"murel_cell.fusion_features.merge_linears1.6.weight\", \"murel_cell.fusion_features.merge_linears1.7.bias\", \"murel_cell.fusion_features.merge_linears1.7.weight\", \"murel_cell.fusion_features.merge_linears1.8.bias\", \"murel_cell.fusion_features.merge_linears1.8.weight\", \"murel_cell.fusion_features.merge_linears1.9.bias\", \"murel_cell.fusion_features.merge_linears1.9.weight\", \"murel_cell.fusion_features.merge_linears1.10.bias\", \"murel_cell.fusion_features.merge_linears1.10.weight\", \"murel_cell.fusion_features.merge_linears1.11.bias\", \"murel_cell.fusion_features.merge_linears1.11.weight\", \"murel_cell.fusion_features.merge_linears1.12.bias\", \"murel_cell.fusion_features.merge_linears1.12.weight\", \"murel_cell.fusion_features.merge_linears1.13.bias\", \"murel_cell.fusion_features.merge_linears1.13.weight\", \"murel_cell.fusion_features.merge_linears1.14.bias\", \"murel_cell.fusion_features.merge_linears1.14.weight\", \"murel_cell.fusion_features.merge_linears1.15.bias\", \"murel_cell.fusion_features.merge_linears1.15.weight\", \"murel_cell.fusion_features.merge_linears1.16.bias\", \"murel_cell.fusion_features.merge_linears1.16.weight\", \"murel_cell.fusion_features.merge_linears1.17.bias\", \"murel_cell.fusion_features.merge_linears1.17.weight\", \"murel_cell.fusion_features.merge_linears1.18.bias\", \"murel_cell.fusion_features.merge_linears1.18.weight\", \"murel_cell.fusion_features.merge_linears1.19.bias\", \"murel_cell.fusion_features.merge_linears1.19.weight\", \"murel_cell.fusion_features.linear_out.bias\", \"murel_cell.fusion_features.linear_out.weight\", \"murel_cell.fusion_box.linear0.bias\", \"murel_cell.fusion_box.linear0.weight\", \"murel_cell.fusion_box.linear1.bias\", \"murel_cell.fusion_box.linear1.weight\", \"murel_cell.fusion_box.merge_linears0.0.bias\", \"murel_cell.fusion_box.merge_linears0.0.weight\", \"murel_cell.fusion_box.merge_linears0.1.bias\", \"murel_cell.fusion_box.merge_linears0.1.weight\", \"murel_cell.fusion_box.merge_linears0.2.bias\", \"murel_cell.fusion_box.merge_linears0.2.weight\", \"murel_cell.fusion_box.merge_linears0.3.bias\", \"murel_cell.fusion_box.merge_linears0.3.weight\", \"murel_cell.fusion_box.merge_linears0.4.bias\", \"murel_cell.fusion_box.merge_linears0.4.weight\", \"murel_cell.fusion_box.merge_linears1.0.bias\", \"murel_cell.fusion_box.merge_linears1.0.weight\", \"murel_cell.fusion_box.merge_linears1.1.bias\", \"murel_cell.fusion_box.merge_linears1.1.weight\", \"murel_cell.fusion_box.merge_linears1.2.bias\", \"murel_cell.fusion_box.merge_linears1.2.weight\", \"murel_cell.fusion_box.merge_linears1.3.bias\", \"murel_cell.fusion_box.merge_linears1.3.weight\", \"murel_cell.fusion_box.merge_linears1.4.bias\", \"murel_cell.fusion_box.merge_linears1.4.weight\", \"murel_cell.fusion_box.linear_out.bias\", \"murel_cell.fusion_box.linear_out.weight\", \"murel_cell.fusion_fused.linear0.bias\", \"murel_cell.fusion_fused.linear0.weight\", \"murel_cell.fusion_fused.linear1.bias\", \"murel_cell.fusion_fused.linear1.weight\", \"murel_cell.fusion_fused.merge_linears0.0.bias\", \"murel_cell.fusion_fused.merge_linears0.0.weight\", \"murel_cell.fusion_fused.merge_linears0.1.bias\", \"murel_cell.fusion_fused.merge_linears0.1.weight\", \"murel_cell.fusion_fused.merge_linears0.2.bias\", \"murel_cell.fusion_fused.merge_linears0.2.weight\", \"murel_cell.fusion_fused.merge_linears0.3.bias\", \"murel_cell.fusion_fused.merge_linears0.3.weight\", \"murel_cell.fusion_fused.merge_linears0.4.bias\", \"murel_cell.fusion_fused.merge_linears0.4.weight\", \"murel_cell.fusion_fused.merge_linears1.0.bias\", \"murel_cell.fusion_fused.merge_linears1.0.weight\", \"murel_cell.fusion_fused.merge_linears1.1.bias\", \"murel_cell.fusion_fused.merge_linears1.1.weight\", \"murel_cell.fusion_fused.merge_linears1.2.bias\", \"murel_cell.fusion_fused.merge_linears1.2.weight\", \"murel_cell.fusion_fused.merge_linears1.3.bias\", \"murel_cell.fusion_fused.merge_linears1.3.weight\", \"murel_cell.fusion_fused.merge_linears1.4.bias\", \"murel_cell.fusion_fused.merge_linears1.4.weight\", \"murel_cell.fusion_fused.linear_out.bias\", \"murel_cell.fusion_fused.linear_out.weight\", \"final_fusion.linear0.bias\", \"final_fusion.linear0.weight\", \"final_fusion.linear1.bias\", \"final_fusion.linear1.weight\", \"final_fusion.merge_linears0.0.bias\", \"final_fusion.merge_linears0.0.weight\", \"final_fusion.merge_linears0.1.bias\", \"final_fusion.merge_linears0.1.weight\", \"final_fusion.merge_linears0.2.bias\", \"final_fusion.merge_linears0.2.weight\", \"final_fusion.merge_linears0.3.bias\", \"final_fusion.merge_linears0.3.weight\", \"final_fusion.merge_linears0.4.bias\", \"final_fusion.merge_linears0.4.weight\", \"final_fusion.merge_linears0.5.bias\", \"final_fusion.merge_linears0.5.weight\", \"final_fusion.merge_linears0.6.bias\", \"final_fusion.merge_linears0.6.weight\", \"final_fusion.merge_linears0.7.bias\", \"final_fusion.merge_linears0.7.weight\", \"final_fusion.merge_linears0.8.bias\", \"final_fusion.merge_linears0.8.weight\", \"final_fusion.merge_linears0.9.bias\", \"final_fusion.merge_linears0.9.weight\", \"final_fusion.merge_linears0.10.bias\", \"final_fusion.merge_linears0.10.weight\", \"final_fusion.merge_linears0.11.bias\", \"final_fusion.merge_linears0.11.weight\", \"final_fusion.merge_linears0.12.bias\", \"final_fusion.merge_linears0.12.weight\", \"final_fusion.merge_linears0.13.bias\", \"final_fusion.merge_linears0.13.weight\", \"final_fusion.merge_linears0.14.bias\", \"final_fusion.merge_linears0.14.weight\", \"final_fusion.merge_linears0.15.bias\", \"final_fusion.merge_linears0.15.weight\", \"final_fusion.merge_linears0.16.bias\", \"final_fusion.merge_linears0.16.weight\", \"final_fusion.merge_linears0.17.bias\", \"final_fusion.merge_linears0.17.weight\", \"final_fusion.merge_linears0.18.bias\", \"final_fusion.merge_linears0.18.weight\", \"final_fusion.merge_linears0.19.bias\", \"final_fusion.merge_linears0.19.weight\", \"final_fusion.merge_linears1.0.bias\", \"final_fusion.merge_linears1.0.weight\", \"final_fusion.merge_linears1.1.bias\", \"final_fusion.merge_linears1.1.weight\", \"final_fusion.merge_linears1.2.bias\", \"final_fusion.merge_linears1.2.weight\", \"final_fusion.merge_linears1.3.bias\", \"final_fusion.merge_linears1.3.weight\", \"final_fusion.merge_linears1.4.bias\", \"final_fusion.merge_linears1.4.weight\", \"final_fusion.merge_linears1.5.bias\", \"final_fusion.merge_linears1.5.weight\", \"final_fusion.merge_linears1.6.bias\", \"final_fusion.merge_linears1.6.weight\", \"final_fusion.merge_linears1.7.bias\", \"final_fusion.merge_linears1.7.weight\", \"final_fusion.merge_linears1.8.bias\", \"final_fusion.merge_linears1.8.weight\", \"final_fusion.merge_linears1.9.bias\", \"final_fusion.merge_linears1.9.weight\", \"final_fusion.merge_linears1.10.bias\", \"final_fusion.merge_linears1.10.weight\", \"final_fusion.merge_linears1.11.bias\", \"final_fusion.merge_linears1.11.weight\", \"final_fusion.merge_linears1.12.bias\", \"final_fusion.merge_linears1.12.weight\", \"final_fusion.merge_linears1.13.bias\", \"final_fusion.merge_linears1.13.weight\", \"final_fusion.merge_linears1.14.bias\", \"final_fusion.merge_linears1.14.weight\", \"final_fusion.merge_linears1.15.bias\", \"final_fusion.merge_linears1.15.weight\", \"final_fusion.merge_linears1.16.bias\", \"final_fusion.merge_linears1.16.weight\", \"final_fusion.merge_linears1.17.bias\", \"final_fusion.merge_linears1.17.weight\", \"final_fusion.merge_linears1.18.bias\", \"final_fusion.merge_linears1.18.weight\", \"final_fusion.merge_linears1.19.bias\", \"final_fusion.merge_linears1.19.weight\", \"final_fusion.linear_out.bias\", \"final_fusion.linear_out.weight\". \n\tUnexpected key(s) in state_dict: \"module.murel_cell.fusion_features.linear0.weight\", \"module.murel_cell.fusion_features.linear0.bias\", \"module.murel_cell.fusion_features.linear1.weight\", \"module.murel_cell.fusion_features.linear1.bias\", \"module.murel_cell.fusion_features.merge_linears0.0.weight\", \"module.murel_cell.fusion_features.merge_linears0.0.bias\", \"module.murel_cell.fusion_features.merge_linears0.1.weight\", \"module.murel_cell.fusion_features.merge_linears0.1.bias\", \"module.murel_cell.fusion_features.merge_linears0.2.weight\", \"module.murel_cell.fusion_features.merge_linears0.2.bias\", \"module.murel_cell.fusion_features.merge_linears0.3.weight\", \"module.murel_cell.fusion_features.merge_linears0.3.bias\", \"module.murel_cell.fusion_features.merge_linears0.4.weight\", \"module.murel_cell.fusion_features.merge_linears0.4.bias\", \"module.murel_cell.fusion_features.merge_linears0.5.weight\", \"module.murel_cell.fusion_features.merge_linears0.5.bias\", \"module.murel_cell.fusion_features.merge_linears0.6.weight\", \"module.murel_cell.fusion_features.merge_linears0.6.bias\", \"module.murel_cell.fusion_features.merge_linears0.7.weight\", \"module.murel_cell.fusion_features.merge_linears0.7.bias\", \"module.murel_cell.fusion_features.merge_linears0.8.weight\", \"module.murel_cell.fusion_features.merge_linears0.8.bias\", \"module.murel_cell.fusion_features.merge_linears0.9.weight\", \"module.murel_cell.fusion_features.merge_linears0.9.bias\", \"module.murel_cell.fusion_features.merge_linears0.10.weight\", \"module.murel_cell.fusion_features.merge_linears0.10.bias\", \"module.murel_cell.fusion_features.merge_linears0.11.weight\", \"module.murel_cell.fusion_features.merge_linears0.11.bias\", \"module.murel_cell.fusion_features.merge_linears0.12.weight\", \"module.murel_cell.fusion_features.merge_linears0.12.bias\", \"module.murel_cell.fusion_features.merge_linears0.13.weight\", \"module.murel_cell.fusion_features.merge_linears0.13.bias\", \"module.murel_cell.fusion_features.merge_linears0.14.weight\", \"module.murel_cell.fusion_features.merge_linears0.14.bias\", \"module.murel_cell.fusion_features.merge_linears0.15.weight\", \"module.murel_cell.fusion_features.merge_linears0.15.bias\", \"module.murel_cell.fusion_features.merge_linears0.16.weight\", \"module.murel_cell.fusion_features.merge_linears0.16.bias\", \"module.murel_cell.fusion_features.merge_linears0.17.weight\", \"module.murel_cell.fusion_features.merge_linears0.17.bias\", \"module.murel_cell.fusion_features.merge_linears0.18.weight\", \"module.murel_cell.fusion_features.merge_linears0.18.bias\", \"module.murel_cell.fusion_features.merge_linears0.19.weight\", \"module.murel_cell.fusion_features.merge_linears0.19.bias\", \"module.murel_cell.fusion_features.merge_linears1.0.weight\", \"module.murel_cell.fusion_features.merge_linears1.0.bias\", \"module.murel_cell.fusion_features.merge_linears1.1.weight\", \"module.murel_cell.fusion_features.merge_linears1.1.bias\", \"module.murel_cell.fusion_features.merge_linears1.2.weight\", \"module.murel_cell.fusion_features.merge_linears1.2.bias\", \"module.murel_cell.fusion_features.merge_linears1.3.weight\", \"module.murel_cell.fusion_features.merge_linears1.3.bias\", \"module.murel_cell.fusion_features.merge_linears1.4.weight\", \"module.murel_cell.fusion_features.merge_linears1.4.bias\", \"module.murel_cell.fusion_features.merge_linears1.5.weight\", \"module.murel_cell.fusion_features.merge_linears1.5.bias\", \"module.murel_cell.fusion_features.merge_linears1.6.weight\", \"module.murel_cell.fusion_features.merge_linears1.6.bias\", \"module.murel_cell.fusion_features.merge_linears1.7.weight\", \"module.murel_cell.fusion_features.merge_linears1.7.bias\", \"module.murel_cell.fusion_features.merge_linears1.8.weight\", \"module.murel_cell.fusion_features.merge_linears1.8.bias\", \"module.murel_cell.fusion_features.merge_linears1.9.weight\", \"module.murel_cell.fusion_features.merge_linears1.9.bias\", \"module.murel_cell.fusion_features.merge_linears1.10.weight\", \"module.murel_cell.fusion_features.merge_linears1.10.bias\", \"module.murel_cell.fusion_features.merge_linears1.11.weight\", \"module.murel_cell.fusion_features.merge_linears1.11.bias\", \"module.murel_cell.fusion_features.merge_linears1.12.weight\", \"module.murel_cell.fusion_features.merge_linears1.12.bias\", \"module.murel_cell.fusion_features.merge_linears1.13.weight\", \"module.murel_cell.fusion_features.merge_linears1.13.bias\", \"module.murel_cell.fusion_features.merge_linears1.14.weight\", \"module.murel_cell.fusion_features.merge_linears1.14.bias\", \"module.murel_cell.fusion_features.merge_linears1.15.weight\", \"module.murel_cell.fusion_features.merge_linears1.15.bias\", \"module.murel_cell.fusion_features.merge_linears1.16.weight\", \"module.murel_cell.fusion_features.merge_linears1.16.bias\", \"module.murel_cell.fusion_features.merge_linears1.17.weight\", \"module.murel_cell.fusion_features.merge_linears1.17.bias\", \"module.murel_cell.fusion_features.merge_linears1.18.weight\", \"module.murel_cell.fusion_features.merge_linears1.18.bias\", \"module.murel_cell.fusion_features.merge_linears1.19.weight\", \"module.murel_cell.fusion_features.merge_linears1.19.bias\", \"module.murel_cell.fusion_features.linear_out.weight\", \"module.murel_cell.fusion_features.linear_out.bias\", \"module.murel_cell.fusion_box.linear0.weight\", \"module.murel_cell.fusion_box.linear0.bias\", \"module.murel_cell.fusion_box.linear1.weight\", \"module.murel_cell.fusion_box.linear1.bias\", \"module.murel_cell.fusion_box.merge_linears0.0.weight\", \"module.murel_cell.fusion_box.merge_linears0.0.bias\", \"module.murel_cell.fusion_box.merge_linears0.1.weight\", \"module.murel_cell.fusion_box.merge_linears0.1.bias\", \"module.murel_cell.fusion_box.merge_linears0.2.weight\", \"module.murel_cell.fusion_box.merge_linears0.2.bias\", \"module.murel_cell.fusion_box.merge_linears0.3.weight\", \"module.murel_cell.fusion_box.merge_linears0.3.bias\", \"module.murel_cell.fusion_box.merge_linears0.4.weight\", \"module.murel_cell.fusion_box.merge_linears0.4.bias\", \"module.murel_cell.fusion_box.merge_linears1.0.weight\", \"module.murel_cell.fusion_box.merge_linears1.0.bias\", \"module.murel_cell.fusion_box.merge_linears1.1.weight\", \"module.murel_cell.fusion_box.merge_linears1.1.bias\", \"module.murel_cell.fusion_box.merge_linears1.2.weight\", \"module.murel_cell.fusion_box.merge_linears1.2.bias\", \"module.murel_cell.fusion_box.merge_linears1.3.weight\", \"module.murel_cell.fusion_box.merge_linears1.3.bias\", \"module.murel_cell.fusion_box.merge_linears1.4.weight\", \"module.murel_cell.fusion_box.merge_linears1.4.bias\", \"module.murel_cell.fusion_box.linear_out.weight\", \"module.murel_cell.fusion_box.linear_out.bias\", \"module.murel_cell.fusion_fused.linear0.weight\", \"module.murel_cell.fusion_fused.linear0.bias\", \"module.murel_cell.fusion_fused.linear1.weight\", \"module.murel_cell.fusion_fused.linear1.bias\", \"module.murel_cell.fusion_fused.merge_linears0.0.weight\", \"module.murel_cell.fusion_fused.merge_linears0.0.bias\", \"module.murel_cell.fusion_fused.merge_linears0.1.weight\", \"module.murel_cell.fusion_fused.merge_linears0.1.bias\", \"module.murel_cell.fusion_fused.merge_linears0.2.weight\", \"module.murel_cell.fusion_fused.merge_linears0.2.bias\", \"module.murel_cell.fusion_fused.merge_linears0.3.weight\", \"module.murel_cell.fusion_fused.merge_linears0.3.bias\", \"module.murel_cell.fusion_fused.merge_linears0.4.weight\", \"module.murel_cell.fusion_fused.merge_linears0.4.bias\", \"module.murel_cell.fusion_fused.merge_linears1.0.weight\", \"module.murel_cell.fusion_fused.merge_linears1.0.bias\", \"module.murel_cell.fusion_fused.merge_linears1.1.weight\", \"module.murel_cell.fusion_fused.merge_linears1.1.bias\", \"module.murel_cell.fusion_fused.merge_linears1.2.weight\", \"module.murel_cell.fusion_fused.merge_linears1.2.bias\", \"module.murel_cell.fusion_fused.merge_linears1.3.weight\", \"module.murel_cell.fusion_fused.merge_linears1.3.bias\", \"module.murel_cell.fusion_fused.merge_linears1.4.weight\", \"module.murel_cell.fusion_fused.merge_linears1.4.bias\", \"module.murel_cell.fusion_fused.linear_out.weight\", \"module.murel_cell.fusion_fused.linear_out.bias\", \"module.final_fusion.linear0.weight\", \"module.final_fusion.linear0.bias\", \"module.final_fusion.linear1.weight\", \"module.final_fusion.linear1.bias\", \"module.final_fusion.merge_linears0.0.weight\", \"module.final_fusion.merge_linears0.0.bias\", \"module.final_fusion.merge_linears0.1.weight\", \"module.final_fusion.merge_linears0.1.bias\", \"module.final_fusion.merge_linears0.2.weight\", \"module.final_fusion.merge_linears0.2.bias\", \"module.final_fusion.merge_linears0.3.weight\", \"module.final_fusion.merge_linears0.3.bias\", \"module.final_fusion.merge_linears0.4.weight\", \"module.final_fusion.merge_linears0.4.bias\", \"module.final_fusion.merge_linears0.5.weight\", \"module.final_fusion.merge_linears0.5.bias\", \"module.final_fusion.merge_linears0.6.weight\", \"module.final_fusion.merge_linears0.6.bias\", \"module.final_fusion.merge_linears0.7.weight\", \"module.final_fusion.merge_linears0.7.bias\", \"module.final_fusion.merge_linears0.8.weight\", \"module.final_fusion.merge_linears0.8.bias\", \"module.final_fusion.merge_linears0.9.weight\", \"module.final_fusion.merge_linears0.9.bias\", \"module.final_fusion.merge_linears0.10.weight\", \"module.final_fusion.merge_linears0.10.bias\", \"module.final_fusion.merge_linears0.11.weight\", \"module.final_fusion.merge_linears0.11.bias\", \"module.final_fusion.merge_linears0.12.weight\", \"module.final_fusion.merge_linears0.12.bias\", \"module.final_fusion.merge_linears0.13.weight\", \"module.final_fusion.merge_linears0.13.bias\", \"module.final_fusion.merge_linears0.14.weight\", \"module.final_fusion.merge_linears0.14.bias\", \"module.final_fusion.merge_linears0.15.weight\", \"module.final_fusion.merge_linears0.15.bias\", \"module.final_fusion.merge_linears0.16.weight\", \"module.final_fusion.merge_linears0.16.bias\", \"module.final_fusion.merge_linears0.17.weight\", \"module.final_fusion.merge_linears0.17.bias\", \"module.final_fusion.merge_linears0.18.weight\", \"module.final_fusion.merge_linears0.18.bias\", \"module.final_fusion.merge_linears0.19.weight\", \"module.final_fusion.merge_linears0.19.bias\", \"module.final_fusion.merge_linears1.0.weight\", \"module.final_fusion.merge_linears1.0.bias\", \"module.final_fusion.merge_linears1.1.weight\", \"module.final_fusion.merge_linears1.1.bias\", \"module.final_fusion.merge_linears1.2.weight\", \"module.final_fusion.merge_linears1.2.bias\", \"module.final_fusion.merge_linears1.3.weight\", \"module.final_fusion.merge_linears1.3.bias\", \"module.final_fusion.merge_linears1.4.weight\", \"module.final_fusion.merge_linears1.4.bias\", \"module.final_fusion.merge_linears1.5.weight\", \"module.final_fusion.merge_linears1.5.bias\", \"module.final_fusion.merge_linears1.6.weight\", \"module.final_fusion.merge_linears1.6.bias\", \"module.final_fusion.merge_linears1.7.weight\", \"module.final_fusion.merge_linears1.7.bias\", \"module.final_fusion.merge_linears1.8.weight\", \"module.final_fusion.merge_linears1.8.bias\", \"module.final_fusion.merge_linears1.9.weight\", \"module.final_fusion.merge_linears1.9.bias\", \"module.final_fusion.merge_linears1.10.weight\", \"module.final_fusion.merge_linears1.10.bias\", \"module.final_fusion.merge_linears1.11.weight\", \"module.final_fusion.merge_linears1.11.bias\", \"module.final_fusion.merge_linears1.12.weight\", \"module.final_fusion.merge_linears1.12.bias\", \"module.final_fusion.merge_linears1.13.weight\", \"module.final_fusion.merge_linears1.13.bias\", \"module.final_fusion.merge_linears1.14.weight\", \"module.final_fusion.merge_linears1.14.bias\", \"module.final_fusion.merge_linears1.15.weight\", \"module.final_fusion.merge_linears1.15.bias\", \"module.final_fusion.merge_linears1.16.weight\", \"module.final_fusion.merge_linears1.16.bias\", \"module.final_fusion.merge_linears1.17.weight\", \"module.final_fusion.merge_linears1.17.bias\", \"module.final_fusion.merge_linears1.18.weight\", \"module.final_fusion.merge_linears1.18.bias\", \"module.final_fusion.merge_linears1.19.weight\", \"module.final_fusion.merge_linears1.19.bias\", \"module.final_fusion.linear_out.weight\", \"module.final_fusion.linear_out.bias\". "
     ]
    }
   ],
   "source": [
    "model = model.load_state_dict(torch.load('/auto/homes/bat34/VQA_PartII/murel/trained_models/murel_txt_enc_BayesianUniSkip_batch_size_84_lr_0.0003_lr_decay_rate_0.25_unroll_steps_3_fusion_type_block_accuracy_0.36200476471784543_epoch_4.pth'))"
   ]
  },
  {
   "cell_type": "code",
   "execution_count": 9,
   "metadata": {},
   "outputs": [],
   "source": [
    "ROOT_DIR = config['ROOT_DIR']\n",
    "train_dataset = MurelNetDataset(split=\"train\", \\\n",
    "                                    txt_enc=config['txt_enc'], \\\n",
    "                                    bottom_up_features_dir=config['bottom_up_features_dir'], \\\n",
    "                                    skipthoughts_dir=config['skipthoughts_dir'], \\\n",
    "                                    processed_dir=config['processed_dir'], \\\n",
    "                                    ROOT_DIR=ROOT_DIR, \\\n",
    "                                    vqa_dir=config['vqa_dir'])\n",
    "val_dataset =   MurelNetDataset(split=\"val\", \\\n",
    "                                    txt_enc=config['txt_enc'], \\\n",
    "                                    bottom_up_features_dir=config['bottom_up_features_dir'], \\\n",
    "                                    skipthoughts_dir=config['skipthoughts_dir'], \\\n",
    "                                    processed_dir=config['processed_dir'], \\\n",
    "                                    ROOT_DIR=ROOT_DIR, \\\n",
    "                                    vqa_dir=config['vqa_dir'])\n",
    "train_loader = DataLoader(train_dataset, shuffle=True, \\\n",
    "                              batch_size=config['batch_size'], \\\n",
    "                             num_workers=config['num_workers'])\n",
    "val_loader = DataLoader(val_dataset, shuffle=True, \\\n",
    "                            batch_size=config['batch_size'], \\\n",
    "                            num_workers=config['num_workers'])"
   ]
  },
  {
   "cell_type": "code",
   "execution_count": 11,
   "metadata": {},
   "outputs": [],
   "source": [
    "def val_evaluate(model, epoch, val_loader, criterion):\n",
    "    model.eval()\n",
    "    correct = 0\n",
    "    total = 0\n",
    "    running_loss = 0.0\n",
    "    count = 1\n",
    "    evaluator_criterion = nn.NLLLoss(reduction='sum')\n",
    "    with torch.no_grad():\n",
    "        for data in val_loader:\n",
    "            if count == 2:\n",
    "                break\n",
    "            item = {\\\n",
    "                    'question_embedding': data['question_embedding'].cuda(), \\\n",
    "                    'object_features_list': data['object_features_list'].cuda(), \\\n",
    "                    'bounding_boxes': data['bounding_boxes'].cuda(), \\\n",
    "                    'answer_id': torch.squeeze(data['answer_id']).cuda()\n",
    "            }\n",
    "            inputs, labels = item, item['answer_id']\n",
    "            outputs = model(inputs)\n",
    "            _, predicted = torch.max(outputs, dim=1)\n",
    "            total += labels.size(0)\n",
    "            correct += (predicted == labels).sum().item()\n",
    "            running_loss += evaluator_criterion(outputs, labels).item()\n",
    "            count += 1\n",
    "    avg_accuracy = correct / total\n",
    "    avg_cross_entropy = running_loss / total\n",
    "    print(\"Validation Results - Epoch: {}  Avg accuracy: {:.2f} Avg loss: {:.2f}\"\n",
    "              .format(epoch, avg_accuracy, avg_cross_entropy))\n",
    "    return avg_accuracy\n",
    "\n",
    "def train_evaluate(model, epoch, train_loader, criterion):\n",
    "    model.eval()\n",
    "    correct = 0\n",
    "    total = 0\n",
    "    running_loss = 0.0\n",
    "    count = 1\n",
    "    evaluator_criterion = nn.NLLLoss(reduction='sum')\n",
    "    with torch.no_grad():\n",
    "        for data in train_loader:\n",
    "            if count == 2:\n",
    "                break\n",
    "#             if count % (len(train_loader) // 5) == 0:\n",
    "#                 break\n",
    "            item = {\\\n",
    "                    'question_embedding': data['question_embedding'].cuda(), \\\n",
    "                    'object_features_list': data['object_features_list'].cuda(), \\\n",
    "                    'bounding_boxes': data['bounding_boxes'].cuda(), \\\n",
    "                    'answer_id': torch.squeeze(data['answer_id']).cuda()\n",
    "            }\n",
    "            inputs, labels = item, item['answer_id']\n",
    "            outputs = model(inputs)\n",
    "            _, predicted = torch.max(outputs, dim=1)\n",
    "            total += labels.size(0)\n",
    "            correct += (predicted == labels).sum().item()\n",
    "            running_loss += evaluator_criterion(outputs, labels).item()\n",
    "            count += 1\n",
    "    avg_accuracy = correct / total\n",
    "    avg_cross_entropy = running_loss / total\n",
    "    print(\"Training Results - Epoch: {}  Avg accuracy: {:.2f} Avg loss: {:.2f}\"\n",
    "              .format(epoch, avg_accuracy, avg_cross_entropy))\n",
    "    writer.add_scalar(\"training/avg_loss\", avg_cross_entropy, epoch)\n",
    "    writer.add_scalar(\"training/avg_accuracy\", avg_accuracy, epoch)\n",
    "    return avg_accuracy"
   ]
  },
  {
   "cell_type": "code",
   "execution_count": 16,
   "metadata": {},
   "outputs": [
    {
     "name": "stderr",
     "output_type": "stream",
     "text": [
      "/home/bat34/venv/lib/python3.5/site-packages/torch/nn/functional.py:1351: UserWarning: nn.functional.sigmoid is deprecated. Use torch.sigmoid instead.\n",
      "  warnings.warn(\"nn.functional.sigmoid is deprecated. Use torch.sigmoid instead.\")\n",
      "/home/bat34/venv/lib/python3.5/site-packages/torch/nn/functional.py:1351: UserWarning: nn.functional.sigmoid is deprecated. Use torch.sigmoid instead.\n",
      "  warnings.warn(\"nn.functional.sigmoid is deprecated. Use torch.sigmoid instead.\")\n",
      "/home/bat34/venv/lib/python3.5/site-packages/torch/nn/functional.py:1351: UserWarning: nn.functional.sigmoid is deprecated. Use torch.sigmoid instead.\n",
      "  warnings.warn(\"nn.functional.sigmoid is deprecated. Use torch.sigmoid instead.\")\n",
      "/home/bat34/venv/lib/python3.5/site-packages/torch/nn/functional.py:1351: UserWarning: nn.functional.sigmoid is deprecated. Use torch.sigmoid instead.\n",
      "  warnings.warn(\"nn.functional.sigmoid is deprecated. Use torch.sigmoid instead.\")\n",
      "/home/bat34/venv/lib/python3.5/site-packages/torch/nn/functional.py:1340: UserWarning: nn.functional.tanh is deprecated. Use torch.tanh instead.\n",
      "  warnings.warn(\"nn.functional.tanh is deprecated. Use torch.tanh instead.\")\n",
      "/home/bat34/venv/lib/python3.5/site-packages/torch/nn/functional.py:1340: UserWarning: nn.functional.tanh is deprecated. Use torch.tanh instead.\n",
      "  warnings.warn(\"nn.functional.tanh is deprecated. Use torch.tanh instead.\")\n",
      "/home/bat34/venv/lib/python3.5/site-packages/torch/nn/functional.py:1340: UserWarning: nn.functional.tanh is deprecated. Use torch.tanh instead.\n",
      "  warnings.warn(\"nn.functional.tanh is deprecated. Use torch.tanh instead.\")\n",
      "/home/bat34/venv/lib/python3.5/site-packages/torch/nn/functional.py:1340: UserWarning: nn.functional.tanh is deprecated. Use torch.tanh instead.\n",
      "  warnings.warn(\"nn.functional.tanh is deprecated. Use torch.tanh instead.\")\n"
     ]
    },
    {
     "name": "stdout",
     "output_type": "stream",
     "text": [
      "Validation Results - Epoch: 1  Avg accuracy: 0.00 Avg loss: 7.98\n"
     ]
    },
    {
     "data": {
      "text/plain": [
       "0.0"
      ]
     },
     "execution_count": 16,
     "metadata": {},
     "output_type": "execute_result"
    }
   ],
   "source": [
    "import torch.nn as nn\n",
    "val_evaluate(model.cuda(), 1, train_loader, None)"
   ]
  },
  {
   "cell_type": "code",
   "execution_count": null,
   "metadata": {
    "scrolled": true
   },
   "outputs": [],
   "source": [
    "item = next(iter(murel_dataloader))"
   ]
  },
  {
   "cell_type": "code",
   "execution_count": null,
   "metadata": {},
   "outputs": [],
   "source": [
    "model.train()"
   ]
  },
  {
   "cell_type": "code",
   "execution_count": null,
   "metadata": {},
   "outputs": [],
   "source": [
    "res = model(item)"
   ]
  },
  {
   "cell_type": "code",
   "execution_count": null,
   "metadata": {},
   "outputs": [],
   "source": [
    "res.size()"
   ]
  },
  {
   "cell_type": "code",
   "execution_count": 5,
   "metadata": {},
   "outputs": [],
   "source": [
    "item = {\n",
    "    'question_embedding' : torch.randn(2400).unsqueeze(0).expand(2, -1),\n",
    "    'object_features_list' : torch.randn(36, 2048).unsqueeze(0).expand(2, -1, -1),\n",
    "    'bounding_boxes' : torch.randn(36, 4).unsqueeze(0).expand(2, -1, -1)\n",
    "}\n",
    "res = model(item)"
   ]
  },
  {
   "cell_type": "code",
   "execution_count": 7,
   "metadata": {},
   "outputs": [
    {
     "data": {
      "text/plain": [
       "torch.Size([2, 3000])"
      ]
     },
     "execution_count": 7,
     "metadata": {},
     "output_type": "execute_result"
    }
   ],
   "source": [
    "res.size()"
   ]
  },
  {
   "cell_type": "code",
   "execution_count": null,
   "metadata": {},
   "outputs": [],
   "source": [
    "object_features_list = item['object_features_list']"
   ]
  },
  {
   "cell_type": "code",
   "execution_count": null,
   "metadata": {},
   "outputs": [],
   "source": [
    "object_features_list.reshape(4 * 36, -1).size()"
   ]
  },
  {
   "cell_type": "code",
   "execution_count": null,
   "metadata": {},
   "outputs": [],
   "source": []
  }
 ],
 "metadata": {
  "kernelspec": {
   "display_name": "Python 3",
   "language": "python",
   "name": "python3"
  },
  "language_info": {
   "codemirror_mode": {
    "name": "ipython",
    "version": 3
   },
   "file_extension": ".py",
   "mimetype": "text/x-python",
   "name": "python",
   "nbconvert_exporter": "python",
   "pygments_lexer": "ipython3",
   "version": "3.5.2"
  }
 },
 "nbformat": 4,
 "nbformat_minor": 2
}
