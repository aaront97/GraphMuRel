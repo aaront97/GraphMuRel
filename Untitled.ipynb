{
 "cells": [
  {
   "cell_type": "code",
   "execution_count": 1,
   "metadata": {},
   "outputs": [],
   "source": [
    "%load_ext autoreload\n",
    "%autoreload 2\n",
    "\n",
    "from murel.models.MurelNet import MurelNet\n",
    "from dataset.VQAv2Dataset import VQAv2Dataset\n",
    "from dataset.ConcatBaselineDataset import ConcatBaselineDataset\n",
    "import yaml\n",
    "import torch\n",
    "from torch.utils.data import DataLoader\n",
    "import os"
   ]
  },
  {
   "cell_type": "code",
   "execution_count": 2,
   "metadata": {},
   "outputs": [
    {
     "name": "stderr",
     "output_type": "stream",
     "text": [
      "/home/bat34/venv/lib/python3.5/site-packages/ipykernel_launcher.py:2: YAMLLoadWarning: calling yaml.load() without Loader=... is deprecated, as the default Loader is unsafe. Please read https://msg.pyyaml.org/load for full details.\n",
      "  \n"
     ]
    }
   ],
   "source": [
    "with open('murel/scripts/murel.yaml') as f:\n",
    "    config = yaml.load(f)"
   ]
  },
  {
   "cell_type": "code",
   "execution_count": 3,
   "metadata": {},
   "outputs": [
    {
     "name": "stdout",
     "output_type": "stream",
     "text": [
      "Processing....\n"
     ]
    },
    {
     "name": "stderr",
     "output_type": "stream",
     "text": [
      "  0% (2576 of 443757) |                  | Elapsed Time: 0:00:00 ETA:   0:00:17"
     ]
    },
    {
     "name": "stdout",
     "output_type": "stream",
     "text": [
      "Tokenizing questions for train2014\n"
     ]
    },
    {
     "name": "stderr",
     "output_type": "stream",
     "text": [
      "100% (443757 of 443757) |################| Elapsed Time: 0:00:18 Time:  0:00:18\n",
      "  2% (5427 of 214354) |                  | Elapsed Time: 0:00:00 ETA:   0:00:06"
     ]
    },
    {
     "name": "stdout",
     "output_type": "stream",
     "text": [
      "Tokenizing questions for val2014\n"
     ]
    },
    {
     "name": "stderr",
     "output_type": "stream",
     "text": [
      "100% (214354 of 214354) |################| Elapsed Time: 0:00:09 Time:  0:00:09\n",
      "  1% (5099 of 447793) |                  | Elapsed Time: 0:00:00 ETA:   0:00:17"
     ]
    },
    {
     "name": "stdout",
     "output_type": "stream",
     "text": [
      "Tokenizing questions for test2015\n"
     ]
    },
    {
     "name": "stderr",
     "output_type": "stream",
     "text": [
      "100% (447793 of 447793) |################| Elapsed Time: 0:00:17 Time:  0:00:17\n"
     ]
    },
    {
     "name": "stdout",
     "output_type": "stream",
     "text": [
      "Length of answer_vocabulary: 3000, Original no. of answers: 22531\n"
     ]
    },
    {
     "name": "stderr",
     "output_type": "stream",
     "text": [
      "\r",
      "N/A% (0 of 443757) |                     | Elapsed Time: 0:00:00 ETA:  --:--:--"
     ]
    },
    {
     "name": "stdout",
     "output_type": "stream",
     "text": [
      "No. of known words: 2752210, No. of unknown words : 1399, Percentage Loss of words: 0.050806051258548326%\n",
      "Removing questions if they have infrequent answers\n"
     ]
    },
    {
     "name": "stderr",
     "output_type": "stream",
     "text": [
      "100% (443757 of 443757) |################| Elapsed Time: 0:00:02 Time:  0:00:02\n",
      "  0% (630 of 413036) |                   | Elapsed Time: 0:00:00 ETA:   0:01:05"
     ]
    },
    {
     "name": "stdout",
     "output_type": "stream",
     "text": [
      "Adding weight list for id occurences..\n"
     ]
    },
    {
     "name": "stderr",
     "output_type": "stream",
     "text": [
      "100% (413036 of 413036) |################| Elapsed Time: 0:00:35 Time:  0:00:35\n"
     ]
    },
    {
     "name": "stdout",
     "output_type": "stream",
     "text": [
      "Saving processed datasets...\n",
      "Finished processing annotations and questions.\n"
     ]
    }
   ],
   "source": [
    "ROOT_DIR = config['ROOT_DIR']\n",
    "config['batch_size'] = 16\n",
    "train_dataset = VQAv2Dataset(split=\"train\", \\\n",
    "                                    txt_enc=config['txt_enc'], \\\n",
    "                                    bottom_up_features_dir=config['bottom_up_features_dir'], \\\n",
    "                                    skipthoughts_dir=config['skipthoughts_dir'], \\\n",
    "                                    processed_dir=config['processed_dir'], \\\n",
    "                                    ROOT_DIR=ROOT_DIR, \\\n",
    "                                    vqa_dir=config['vqa_dir'])\n",
    "val_dataset =   VQAv2Dataset(split=\"val\", \\\n",
    "                                    txt_enc=config['txt_enc'], \\\n",
    "                                    bottom_up_features_dir=config['bottom_up_features_dir'], \\\n",
    "                                    skipthoughts_dir=config['skipthoughts_dir'], \\\n",
    "                                    processed_dir=config['processed_dir'], \\\n",
    "                                    ROOT_DIR=ROOT_DIR, \\\n",
    "                                    vqa_dir=config['vqa_dir'])\n",
    "train_loader = DataLoader(train_dataset, shuffle=True, \\\n",
    "                              batch_size=config['batch_size'], \\\n",
    "                             num_workers=config['num_workers'], \\\n",
    "                             collate_fn=train_dataset.collate_fn)\n",
    "val_loader = DataLoader(val_dataset, shuffle=True, \\\n",
    "                            batch_size=config['batch_size'], \\\n",
    "                            num_workers=config['num_workers'], \\\n",
    "                            collate_fn=val_dataset.collate_fn)"
   ]
  },
  {
   "cell_type": "code",
   "execution_count": null,
   "metadata": {},
   "outputs": [],
   "source": [
    "word_vocabulary = [word for word, _ in train_dataset.word_to_wid.items()]"
   ]
  },
  {
   "cell_type": "code",
   "execution_count": 16,
   "metadata": {},
   "outputs": [],
   "source": [
    "model = MurelNet(config, word_vocabulary)\n",
    "#model = model.cuda()"
   ]
  },
  {
   "cell_type": "code",
   "execution_count": 4,
   "metadata": {},
   "outputs": [],
   "source": [
    "data = next(iter(train_loader))"
   ]
  },
  {
   "cell_type": "code",
   "execution_count": 5,
   "metadata": {
    "scrolled": false
   },
   "outputs": [
    {
     "data": {
      "text/plain": [
       "{'answer': ['4',\n",
       "  'yes',\n",
       "  'no',\n",
       "  'no',\n",
       "  'drink',\n",
       "  'fork and knife',\n",
       "  'marble',\n",
       "  'blue',\n",
       "  'no',\n",
       "  'motocross',\n",
       "  'blue',\n",
       "  'microwave',\n",
       "  '0',\n",
       "  'no',\n",
       "  'desert',\n",
       "  'no'],\n",
       " 'answer_id': tensor([[  10],\n",
       "         [   0],\n",
       "         [   1],\n",
       "         [   1],\n",
       "         [1014],\n",
       "         [ 627],\n",
       "         [ 586],\n",
       "         [   6],\n",
       "         [   1],\n",
       "         [1141],\n",
       "         [   6],\n",
       "         [ 262],\n",
       "         [   9],\n",
       "         [   1],\n",
       "         [ 848],\n",
       "         [   1]]),\n",
       " 'bounding_boxes': tensor([[[3.9640e-01, 0.0000e+00, 5.5659e-01, 2.6410e-01],\n",
       "          [4.4638e-01, 1.1686e-01, 5.4047e-01, 2.6457e-01],\n",
       "          [4.4300e-02, 0.0000e+00, 9.8443e-01, 3.1025e-01],\n",
       "          ...,\n",
       "          [5.1857e-01, 7.5123e-01, 5.5851e-01, 8.7465e-01],\n",
       "          [5.3389e-01, 5.2891e-01, 5.9607e-01, 6.0737e-01],\n",
       "          [0.0000e+00, 5.5242e-01, 9.1892e-01, 9.9833e-01]],\n",
       " \n",
       "         [[2.3330e-01, 3.3751e-01, 4.7301e-01, 5.0733e-01],\n",
       "          [3.1761e-01, 5.1652e-01, 9.5369e-01, 8.4816e-01],\n",
       "          [0.0000e+00, 6.4364e-01, 2.0225e-01, 8.7754e-01],\n",
       "          ...,\n",
       "          [2.5047e-01, 4.6621e-01, 9.9833e-01, 9.9875e-01],\n",
       "          [0.0000e+00, 7.2749e-01, 9.9833e-01, 9.9875e-01],\n",
       "          [0.0000e+00, 5.1313e-01, 2.6519e-01, 8.6885e-01]],\n",
       " \n",
       "         [[0.0000e+00, 6.9299e-02, 4.6607e-01, 9.0704e-01],\n",
       "          [2.4403e-01, 0.0000e+00, 7.8714e-01, 9.7292e-01],\n",
       "          [1.4461e-01, 2.0765e-01, 2.8711e-01, 4.1534e-01],\n",
       "          ...,\n",
       "          [5.9404e-01, 0.0000e+00, 9.4005e-01, 3.2479e-01],\n",
       "          [4.3617e-01, 0.0000e+00, 5.3238e-01, 1.8662e-01],\n",
       "          [3.5278e-01, 4.9322e-01, 9.9875e-01, 9.9833e-01]],\n",
       " \n",
       "         ...,\n",
       " \n",
       "         [[4.0361e-01, 0.0000e+00, 9.1400e-01, 9.8431e-01],\n",
       "          [2.5957e-01, 0.0000e+00, 7.8469e-01, 8.8336e-01],\n",
       "          [0.0000e+00, 8.9200e-05, 1.7580e-01, 2.4515e-01],\n",
       "          ...,\n",
       "          [0.0000e+00, 0.0000e+00, 1.9466e-01, 4.5294e-01],\n",
       "          [1.5937e-01, 0.0000e+00, 8.0311e-01, 1.9908e-01],\n",
       "          [8.2862e-01, 1.2540e-01, 9.9875e-01, 8.0613e-01]],\n",
       " \n",
       "         [[6.5369e-01, 2.0404e-01, 7.4847e-01, 8.0456e-01],\n",
       "          [3.2365e-01, 3.6415e-01, 6.2101e-01, 8.5494e-01],\n",
       "          [6.5931e-01, 3.4501e-01, 6.9753e-01, 4.1744e-01],\n",
       "          ...,\n",
       "          [4.6661e-01, 6.0873e-01, 5.1341e-01, 7.9463e-01],\n",
       "          [0.0000e+00, 4.7552e-01, 4.5258e-01, 9.9833e-01],\n",
       "          [1.6181e-01, 4.3894e-01, 9.9856e-01, 9.9833e-01]],\n",
       " \n",
       "         [[0.0000e+00, 5.7687e-01, 9.0894e-01, 9.9941e-01],\n",
       "          [8.4234e-02, 5.5604e-03, 4.1812e-01, 1.7076e-01],\n",
       "          [4.8455e-01, 5.0675e-02, 7.6823e-01, 4.2733e-01],\n",
       "          ...,\n",
       "          [0.0000e+00, 6.1332e-01, 5.6604e-01, 9.9941e-01],\n",
       "          [0.0000e+00, 6.6569e-01, 2.5407e-01, 9.8983e-01],\n",
       "          [3.0931e-01, 6.1593e-01, 7.7726e-01, 6.8924e-01]]]),\n",
       " 'graph': Batch(batch=[576], edge_index=[2, 4376], pos=[576, 4]),\n",
       " 'id_unique': tensor([[  10,    0,    0,    0,    0,    0],\n",
       "         [   0,    0,    0,    0,    0,    0],\n",
       "         [   0,    1,    0,    0,    0,    0],\n",
       "         [   1,    0,    0,    0,    0,    0],\n",
       "         [1014,    0,    0,    0,    0,    0],\n",
       "         [ 119,  627, 2041,    0,    0,    0],\n",
       "         [  29,   60,  556,  586,    0,    0],\n",
       "         [   6,    0,    0,    0,    0,    0],\n",
       "         [   1,    0,    0,    0,    0,    0],\n",
       "         [1141,    0,    0,    0,    0,    0],\n",
       "         [   6,    0,    0,    0,    0,    0],\n",
       "         [ 262,    0,    0,    0,    0,    0],\n",
       "         [   3,    9,    0,    0,    0,    0],\n",
       "         [   0,    1,    0,    0,    0,    0],\n",
       "         [  71,  191,  570,  848, 1656, 2774],\n",
       "         [   0,    1,    0,    0,    0,    0]]),\n",
       " 'id_weights': tensor([[1.0000, 0.0000, 0.0000, 0.0000, 0.0000, 0.0000],\n",
       "         [1.0000, 0.0000, 0.0000, 0.0000, 0.0000, 0.0000],\n",
       "         [0.2000, 0.8000, 0.0000, 0.0000, 0.0000, 0.0000],\n",
       "         [1.0000, 0.0000, 0.0000, 0.0000, 0.0000, 0.0000],\n",
       "         [1.0000, 0.0000, 0.0000, 0.0000, 0.0000, 0.0000],\n",
       "         [0.1667, 0.5000, 0.3333, 0.0000, 0.0000, 0.0000],\n",
       "         [0.2222, 0.1111, 0.2222, 0.4444, 0.0000, 0.0000],\n",
       "         [1.0000, 0.0000, 0.0000, 0.0000, 0.0000, 0.0000],\n",
       "         [1.0000, 0.0000, 0.0000, 0.0000, 0.0000, 0.0000],\n",
       "         [1.0000, 0.0000, 0.0000, 0.0000, 0.0000, 0.0000],\n",
       "         [1.0000, 0.0000, 0.0000, 0.0000, 0.0000, 0.0000],\n",
       "         [1.0000, 0.0000, 0.0000, 0.0000, 0.0000, 0.0000],\n",
       "         [0.5000, 0.5000, 0.0000, 0.0000, 0.0000, 0.0000],\n",
       "         [0.2000, 0.8000, 0.0000, 0.0000, 0.0000, 0.0000],\n",
       "         [0.2222, 0.1111, 0.1111, 0.3333, 0.1111, 0.1111],\n",
       "         [0.2000, 0.8000, 0.0000, 0.0000, 0.0000, 0.0000]]),\n",
       " 'image_name': ['COCO_train2014_000000166047.jpg',\n",
       "  'COCO_train2014_000000136687.jpg',\n",
       "  'COCO_train2014_000000431984.jpg',\n",
       "  'COCO_train2014_000000534808.jpg',\n",
       "  'COCO_train2014_000000351148.jpg',\n",
       "  'COCO_train2014_000000237337.jpg',\n",
       "  'COCO_train2014_000000550912.jpg',\n",
       "  'COCO_train2014_000000110459.jpg',\n",
       "  'COCO_train2014_000000292579.jpg',\n",
       "  'COCO_train2014_000000127067.jpg',\n",
       "  'COCO_train2014_000000540670.jpg',\n",
       "  'COCO_train2014_000000200339.jpg',\n",
       "  'COCO_train2014_000000404242.jpg',\n",
       "  'COCO_train2014_000000506766.jpg',\n",
       "  'COCO_train2014_000000331119.jpg',\n",
       "  'COCO_train2014_000000109423.jpg'],\n",
       " 'index': [255301,\n",
       "  110869,\n",
       "  127640,\n",
       "  34614,\n",
       "  196397,\n",
       "  338915,\n",
       "  97178,\n",
       "  24089,\n",
       "  100293,\n",
       "  400739,\n",
       "  54105,\n",
       "  226438,\n",
       "  36379,\n",
       "  360336,\n",
       "  67972,\n",
       "  348416],\n",
       " 'object_features_list': tensor([[[6.3261e-01, 0.0000e+00, 1.0747e-02,  ..., 1.3971e-01,\n",
       "           4.6971e-01, 1.6523e-02],\n",
       "          [3.1070e-02, 0.0000e+00, 2.5712e-01,  ..., 0.0000e+00,\n",
       "           0.0000e+00, 0.0000e+00],\n",
       "          [0.0000e+00, 1.3659e-01, 0.0000e+00,  ..., 7.3293e-01,\n",
       "           1.6372e+00, 3.7316e-01],\n",
       "          ...,\n",
       "          [0.0000e+00, 0.0000e+00, 6.8237e-01,  ..., 0.0000e+00,\n",
       "           1.0413e-01, 2.3238e-01],\n",
       "          [5.8927e-01, 0.0000e+00, 0.0000e+00,  ..., 0.0000e+00,\n",
       "           1.3749e-01, 4.3458e-02],\n",
       "          [1.8969e-03, 4.1707e-02, 2.9056e-02,  ..., 0.0000e+00,\n",
       "           0.0000e+00, 1.6894e+00]],\n",
       " \n",
       "         [[4.0746e+00, 0.0000e+00, 6.8567e-02,  ..., 0.0000e+00,\n",
       "           5.5029e+00, 1.1856e-01],\n",
       "          [2.2597e-01, 0.0000e+00, 8.8302e-01,  ..., 0.0000e+00,\n",
       "           1.0766e+00, 5.9515e-02],\n",
       "          [4.7930e-01, 1.1947e-02, 4.9985e-02,  ..., 0.0000e+00,\n",
       "           3.0513e-02, 1.0526e+00],\n",
       "          ...,\n",
       "          [3.8179e-01, 0.0000e+00, 4.3575e-01,  ..., 0.0000e+00,\n",
       "           7.9093e-01, 5.2688e-01],\n",
       "          [4.3999e-01, 4.3439e-01, 1.9153e-01,  ..., 0.0000e+00,\n",
       "           1.6610e-02, 2.0372e-02],\n",
       "          [3.8281e-01, 6.9234e-02, 0.0000e+00,  ..., 0.0000e+00,\n",
       "           0.0000e+00, 8.7831e-01]],\n",
       " \n",
       "         [[7.2259e-02, 3.1609e-02, 6.4017e-01,  ..., 3.4204e+00,\n",
       "           5.2216e-01, 2.3209e+00],\n",
       "          [1.2059e-01, 4.5944e-02, 2.6598e+00,  ..., 3.0389e+00,\n",
       "           0.0000e+00, 2.6522e+00],\n",
       "          [8.1516e-01, 0.0000e+00, 7.2724e-04,  ..., 0.0000e+00,\n",
       "           4.5584e+00, 0.0000e+00],\n",
       "          ...,\n",
       "          [1.3639e-01, 0.0000e+00, 1.7532e-02,  ..., 4.6431e+00,\n",
       "           1.0887e-01, 4.4739e-02],\n",
       "          [0.0000e+00, 4.9251e-02, 7.1695e-03,  ..., 0.0000e+00,\n",
       "           1.5179e-01, 4.0367e-01],\n",
       "          [7.7827e-02, 7.7443e-02, 3.4617e+00,  ..., 1.9440e+00,\n",
       "           0.0000e+00, 9.3780e-02]],\n",
       " \n",
       "         ...,\n",
       " \n",
       "         [[5.9351e-01, 0.0000e+00, 0.0000e+00,  ..., 0.0000e+00,\n",
       "           7.6193e-02, 5.6495e+00],\n",
       "          [8.5138e-01, 2.4183e-01, 0.0000e+00,  ..., 0.0000e+00,\n",
       "           1.3512e-01, 6.1140e+00],\n",
       "          [0.0000e+00, 1.0689e+00, 2.4239e-02,  ..., 0.0000e+00,\n",
       "           4.8960e+00, 0.0000e+00],\n",
       "          ...,\n",
       "          [1.1164e+00, 2.8477e+00, 4.8873e-03,  ..., 0.0000e+00,\n",
       "           1.8920e-01, 0.0000e+00],\n",
       "          [7.2522e-01, 8.7947e-01, 0.0000e+00,  ..., 0.0000e+00,\n",
       "           2.5600e+00, 2.5863e-01],\n",
       "          [2.6985e-01, 0.0000e+00, 0.0000e+00,  ..., 0.0000e+00,\n",
       "           3.8307e+00, 5.7928e-01]],\n",
       " \n",
       "         [[0.0000e+00, 0.0000e+00, 0.0000e+00,  ..., 0.0000e+00,\n",
       "           0.0000e+00, 1.4106e+00],\n",
       "          [1.3413e+00, 4.0214e-02, 0.0000e+00,  ..., 1.1112e+00,\n",
       "           0.0000e+00, 2.5514e+00],\n",
       "          [0.0000e+00, 0.0000e+00, 7.8902e-04,  ..., 0.0000e+00,\n",
       "           1.9967e+00, 5.2776e-01],\n",
       "          ...,\n",
       "          [0.0000e+00, 5.6460e-01, 0.0000e+00,  ..., 0.0000e+00,\n",
       "           4.9200e-03, 0.0000e+00],\n",
       "          [4.5307e-03, 1.6562e+00, 4.8098e-02,  ..., 3.3256e-01,\n",
       "           1.0394e+00, 7.2068e-01],\n",
       "          [2.0171e-01, 3.7158e-01, 2.2242e-06,  ..., 1.5443e+00,\n",
       "           2.8197e-03, 1.9168e-01]],\n",
       " \n",
       "         [[8.8839e-01, 1.3073e-02, 0.0000e+00,  ..., 0.0000e+00,\n",
       "           2.2970e-01, 1.1110e+00],\n",
       "          [0.0000e+00, 7.1464e-03, 0.0000e+00,  ..., 0.0000e+00,\n",
       "           4.5034e+00, 2.5547e-02],\n",
       "          [4.9282e-01, 3.1636e-01, 0.0000e+00,  ..., 0.0000e+00,\n",
       "           3.3599e-01, 5.8387e-02],\n",
       "          ...,\n",
       "          [1.4921e+00, 0.0000e+00, 3.7196e-01,  ..., 0.0000e+00,\n",
       "           9.8255e-01, 1.3176e-01],\n",
       "          [2.2134e+00, 0.0000e+00, 0.0000e+00,  ..., 0.0000e+00,\n",
       "           2.5979e+00, 1.1917e-01],\n",
       "          [2.2678e-01, 3.4425e+00, 0.0000e+00,  ..., 0.0000e+00,\n",
       "           2.5305e+00, 0.0000e+00]]]),\n",
       " 'question_ids': tensor([[  730,  4329, 11921,   918,  8463,   125,  5892,     0,     0],\n",
       "         [10065,  1294,   872,  4193, 10416,     0,     0,     0,     0],\n",
       "         [ 1098,  1002,  4276,  2381,     0,     0,     0,     0,     0],\n",
       "         [ 1098,  1294, 11242, 10566,  7023,     0,     0,     0,     0],\n",
       "         [ 8135,  1098,   125,  9498,  3819,     0,     0,     0,     0],\n",
       "         [ 8135, 12676,   864,  2483,  9182,  9512,   125, 11823,     0],\n",
       "         [ 8135,   535,  6903,  3929,  1098,   125, 10291,  5484,  9512],\n",
       "         [ 8135, 11548,  1098,   125, 10253,     0,     0,     0,     0],\n",
       "         [  918, 10398,   263,  6145,  8463,  1294,  5892,     0,     0],\n",
       "         [ 8135,   821,   918,   125, 11921, 11938,     0,     0,     0],\n",
       "         [ 8135,  1098,   125, 11548,  6903,   125, 11918, 10253,     0],\n",
       "         [ 8135,   535,  6903,  6651,  1098,  3377,     0,     0,     0],\n",
       "         [  730,  4329,  2025,   918, 10966,  5269,     0,     0,     0],\n",
       "         [ 1098,  1294, 11242,  2976,     0,     0,     0,     0,     0],\n",
       "         [ 9852,   918, 12026, 10495,     0,     0,     0,     0,     0],\n",
       "         [ 8551,  2483,  9182,  6462,     0,     0,     0,     0,     0]]),\n",
       " 'question_lengths': tensor([[7],\n",
       "         [5],\n",
       "         [4],\n",
       "         [5],\n",
       "         [5],\n",
       "         [8],\n",
       "         [9],\n",
       "         [5],\n",
       "         [7],\n",
       "         [6],\n",
       "         [8],\n",
       "         [6],\n",
       "         [6],\n",
       "         [4],\n",
       "         [4],\n",
       "         [4]]),\n",
       " 'question_type': ['how many people are in',\n",
       "  'does this',\n",
       "  'is',\n",
       "  'is this',\n",
       "  'what is the woman',\n",
       "  'what',\n",
       "  'what kind of',\n",
       "  'what color is the',\n",
       "  'are there any',\n",
       "  'what',\n",
       "  'what is the color of the',\n",
       "  'what kind of',\n",
       "  'how many',\n",
       "  'is this',\n",
       "  'none of the above',\n",
       "  'do you'],\n",
       " 'question_unique_id': [166047005,\n",
       "  136687000,\n",
       "  431984001,\n",
       "  534808001,\n",
       "  351148002,\n",
       "  237337001,\n",
       "  550912003,\n",
       "  110459000,\n",
       "  292579006,\n",
       "  127067024,\n",
       "  540670003,\n",
       "  200339001,\n",
       "  404242001,\n",
       "  506766002,\n",
       "  331119003,\n",
       "  109423003]}"
      ]
     },
     "execution_count": 5,
     "metadata": {},
     "output_type": "execute_result"
    }
   ],
   "source": [
    "data"
   ]
  },
  {
   "cell_type": "code",
   "execution_count": 22,
   "metadata": {},
   "outputs": [
    {
     "data": {
      "text/plain": [
       "[tensor(7)]"
      ]
     },
     "execution_count": 22,
     "metadata": {},
     "output_type": "execute_result"
    }
   ],
   "source": [
    "list(data['question_lengths'][0])"
   ]
  },
  {
   "cell_type": "code",
   "execution_count": 7,
   "metadata": {},
   "outputs": [],
   "source": [
    "txt_enc = model.txt_enc"
   ]
  },
  {
   "cell_type": "code",
   "execution_count": 8,
   "metadata": {},
   "outputs": [],
   "source": [
    "import dataset"
   ]
  },
  {
   "cell_type": "code",
   "execution_count": 9,
   "metadata": {},
   "outputs": [
    {
     "name": "stderr",
     "output_type": "stream",
     "text": [
      "/home/bat34/venv/lib/python3.5/site-packages/torch/nn/functional.py:1351: UserWarning: nn.functional.sigmoid is deprecated. Use torch.sigmoid instead.\n",
      "  warnings.warn(\"nn.functional.sigmoid is deprecated. Use torch.sigmoid instead.\")\n",
      "/home/bat34/venv/lib/python3.5/site-packages/torch/nn/functional.py:1340: UserWarning: nn.functional.tanh is deprecated. Use torch.tanh instead.\n",
      "  warnings.warn(\"nn.functional.tanh is deprecated. Use torch.tanh instead.\")\n"
     ]
    }
   ],
   "source": [
    "q_feats = txt_enc.embedding(data['question_ids'].cuda())\n",
    "q_feats, _ = txt_enc.rnn(q_feats)\n",
    "q_att = model.linear0(q_feats)\n",
    "q_att = torch.nn.functional.relu(q_att)\n",
    "q_att = model.linear1(q_att)\n",
    "q_att = dataset.auxiliary_functions.masked_softmax(q_att, data['question_lengths'].cuda())"
   ]
  },
  {
   "cell_type": "code",
   "execution_count": 10,
   "metadata": {},
   "outputs": [],
   "source": [
    "item = {\\\n",
    "        'question_ids': data['question_ids'].cuda(), \\\n",
    "        'object_features_list': data['object_features_list'].cuda(), \\\n",
    "        'bounding_boxes': data['bounding_boxes'].cuda(), \\\n",
    "        'answer_id': torch.squeeze(data['answer_id']).cuda(), \\\n",
    "        'question_lengths': data['question_lengths'].cuda()\n",
    "}"
   ]
  },
  {
   "cell_type": "code",
   "execution_count": 11,
   "metadata": {},
   "outputs": [
    {
     "data": {
      "text/plain": [
       "device(type='cuda', index=0)"
      ]
     },
     "execution_count": 11,
     "metadata": {},
     "output_type": "execute_result"
    }
   ],
   "source": [
    "item['question_ids'].device"
   ]
  },
  {
   "cell_type": "code",
   "execution_count": 21,
   "metadata": {},
   "outputs": [],
   "source": [
    "from murel.scripts.murel_train import get_dirs"
   ]
  },
  {
   "cell_type": "code",
   "execution_count": 25,
   "metadata": {},
   "outputs": [],
   "source": [
    "names = get_dirs(config, include_keys=['txt_enc', 'batch_size', 'lr', 'lr_decay_rate', \\\n",
    "                                                'unroll_steps', 'fusion_type'])"
   ]
  },
  {
   "cell_type": "code",
   "execution_count": 26,
   "metadata": {},
   "outputs": [
    {
     "data": {
      "text/plain": [
       "('/auto/homes/bat34/VQA_PartII/murel/trained_models/checkpoints/murel_txt_enc_BayesianUniSkip_batch_size_16_lr_5e-05_lr_decay_rate_0.25_unroll_steps_3_fusion_type_block/checkpoint.pth',\n",
       " '/auto/homes/bat34/VQA_PartII/murel/trained_models/best_models/murel_txt_enc_BayesianUniSkip_batch_size_16_lr_5e-05_lr_decay_rate_0.25_unroll_steps_3_fusion_type_block/best_model.pth')"
      ]
     },
     "execution_count": 26,
     "metadata": {},
     "output_type": "execute_result"
    }
   ],
   "source": [
    "names['checkpoint_file_name'], names['best_model_file_name']"
   ]
  },
  {
   "cell_type": "code",
   "execution_count": null,
   "metadata": {},
   "outputs": [],
   "source": [
    "import torch.nn as nn\n",
    "val_evaluate(model.cuda(), 1, train_loader, None)"
   ]
  },
  {
   "cell_type": "code",
   "execution_count": null,
   "metadata": {
    "scrolled": true
   },
   "outputs": [],
   "source": [
    "item = next(iter(murel_dataloader))"
   ]
  },
  {
   "cell_type": "code",
   "execution_count": null,
   "metadata": {},
   "outputs": [],
   "source": [
    "model.train()"
   ]
  },
  {
   "cell_type": "code",
   "execution_count": null,
   "metadata": {},
   "outputs": [],
   "source": [
    "res = model(item)"
   ]
  },
  {
   "cell_type": "code",
   "execution_count": null,
   "metadata": {},
   "outputs": [],
   "source": [
    "res.size()"
   ]
  },
  {
   "cell_type": "code",
   "execution_count": null,
   "metadata": {},
   "outputs": [],
   "source": [
    "item = {\n",
    "    'question_embedding' : torch.randn(2400).unsqueeze(0).expand(2, -1),\n",
    "    'object_features_list' : torch.randn(36, 2048).unsqueeze(0).expand(2, -1, -1),\n",
    "    'bounding_boxes' : torch.randn(36, 4).unsqueeze(0).expand(2, -1, -1)\n",
    "}\n",
    "res = model(item)"
   ]
  }
 ],
 "metadata": {
  "kernelspec": {
   "display_name": "Python 3",
   "language": "python",
   "name": "python3"
  },
  "language_info": {
   "codemirror_mode": {
    "name": "ipython",
    "version": 3
   },
   "file_extension": ".py",
   "mimetype": "text/x-python",
   "name": "python",
   "nbconvert_exporter": "python",
   "pygments_lexer": "ipython3",
   "version": "3.5.2"
  }
 },
 "nbformat": 4,
 "nbformat_minor": 2
}
