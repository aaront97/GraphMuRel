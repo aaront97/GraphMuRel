{
 "cells": [
  {
   "cell_type": "code",
   "execution_count": 10,
   "metadata": {},
   "outputs": [
    {
     "name": "stdout",
     "output_type": "stream",
     "text": [
      "The autoreload extension is already loaded. To reload it, use:\n",
      "  %reload_ext autoreload\n"
     ]
    }
   ],
   "source": [
    "%load_ext autoreload\n",
    "%autoreload 2\n",
    "\n",
    "from murel.models.MurelNet import MurelNet\n",
    "from dataset.VQAv2Dataset import VQAv2Dataset\n",
    "from dataset.ConcatBaselineDataset import ConcatBaselineDataset\n",
    "import yaml\n",
    "import torch\n",
    "from torch.utils.data import DataLoader\n",
    "import os"
   ]
  },
  {
   "cell_type": "code",
   "execution_count": 11,
   "metadata": {},
   "outputs": [
    {
     "name": "stderr",
     "output_type": "stream",
     "text": [
      "/home/bat34/venv/lib/python3.5/site-packages/ipykernel_launcher.py:2: YAMLLoadWarning: calling yaml.load() without Loader=... is deprecated, as the default Loader is unsafe. Please read https://msg.pyyaml.org/load for full details.\n",
      "  \n"
     ]
    }
   ],
   "source": [
    "with open('murel/scripts/murel.yaml') as f:\n",
    "    config = yaml.load(f)"
   ]
  },
  {
   "cell_type": "code",
   "execution_count": 14,
   "metadata": {},
   "outputs": [],
   "source": [
    "ROOT_DIR = config['ROOT_DIR']\n",
    "config['batch_size'] = 16\n",
    "train_dataset = VQAv2Dataset(split=\"train\", \\\n",
    "                                    txt_enc=config['txt_enc'], \\\n",
    "                                    bottom_up_features_dir=config['bottom_up_features_dir'], \\\n",
    "                                    skipthoughts_dir=config['skipthoughts_dir'], \\\n",
    "                                    processed_dir=config['processed_dir'], \\\n",
    "                                    ROOT_DIR=ROOT_DIR, \\\n",
    "                                    vqa_dir=config['vqa_dir'])\n",
    "val_dataset =   VQAv2Dataset(split=\"val\", \\\n",
    "                                    txt_enc=config['txt_enc'], \\\n",
    "                                    bottom_up_features_dir=config['bottom_up_features_dir'], \\\n",
    "                                    skipthoughts_dir=config['skipthoughts_dir'], \\\n",
    "                                    processed_dir=config['processed_dir'], \\\n",
    "                                    ROOT_DIR=ROOT_DIR, \\\n",
    "                                    vqa_dir=config['vqa_dir'])\n",
    "train_loader = DataLoader(train_dataset, shuffle=True, \\\n",
    "                              batch_size=config['batch_size'], \\\n",
    "                             num_workers=config['num_workers'], \\\n",
    "                             collate_fn=train_dataset.collate_fn)\n",
    "val_loader = DataLoader(val_dataset, shuffle=True, \\\n",
    "                            batch_size=config['batch_size'], \\\n",
    "                            num_workers=config['num_workers'], \\\n",
    "                            collate_fn=val_dataset.collate_fn)"
   ]
  },
  {
   "cell_type": "code",
   "execution_count": 15,
   "metadata": {},
   "outputs": [],
   "source": [
    "word_vocabulary = [word for word, _ in train_dataset.word_to_wid.items()]"
   ]
  },
  {
   "cell_type": "code",
   "execution_count": 16,
   "metadata": {},
   "outputs": [],
   "source": [
    "model = MurelNet(config, word_vocabulary)\n",
    "#model = model.cuda()"
   ]
  },
  {
   "cell_type": "code",
   "execution_count": 6,
   "metadata": {},
   "outputs": [],
   "source": [
    "data = next(iter(train_loader))"
   ]
  },
  {
   "cell_type": "code",
   "execution_count": 7,
   "metadata": {},
   "outputs": [],
   "source": [
    "txt_enc = model.txt_enc"
   ]
  },
  {
   "cell_type": "code",
   "execution_count": 8,
   "metadata": {},
   "outputs": [],
   "source": [
    "import dataset"
   ]
  },
  {
   "cell_type": "code",
   "execution_count": 9,
   "metadata": {},
   "outputs": [
    {
     "name": "stderr",
     "output_type": "stream",
     "text": [
      "/home/bat34/venv/lib/python3.5/site-packages/torch/nn/functional.py:1351: UserWarning: nn.functional.sigmoid is deprecated. Use torch.sigmoid instead.\n",
      "  warnings.warn(\"nn.functional.sigmoid is deprecated. Use torch.sigmoid instead.\")\n",
      "/home/bat34/venv/lib/python3.5/site-packages/torch/nn/functional.py:1340: UserWarning: nn.functional.tanh is deprecated. Use torch.tanh instead.\n",
      "  warnings.warn(\"nn.functional.tanh is deprecated. Use torch.tanh instead.\")\n"
     ]
    }
   ],
   "source": [
    "q_feats = txt_enc.embedding(data['question_ids'].cuda())\n",
    "q_feats, _ = txt_enc.rnn(q_feats)\n",
    "q_att = model.linear0(q_feats)\n",
    "q_att = torch.nn.functional.relu(q_att)\n",
    "q_att = model.linear1(q_att)\n",
    "q_att = dataset.auxiliary_functions.masked_softmax(q_att, data['question_lengths'].cuda())"
   ]
  },
  {
   "cell_type": "code",
   "execution_count": 10,
   "metadata": {},
   "outputs": [],
   "source": [
    "item = {\\\n",
    "        'question_ids': data['question_ids'].cuda(), \\\n",
    "        'object_features_list': data['object_features_list'].cuda(), \\\n",
    "        'bounding_boxes': data['bounding_boxes'].cuda(), \\\n",
    "        'answer_id': torch.squeeze(data['answer_id']).cuda(), \\\n",
    "        'question_lengths': data['question_lengths'].cuda()\n",
    "}"
   ]
  },
  {
   "cell_type": "code",
   "execution_count": 11,
   "metadata": {},
   "outputs": [
    {
     "data": {
      "text/plain": [
       "device(type='cuda', index=0)"
      ]
     },
     "execution_count": 11,
     "metadata": {},
     "output_type": "execute_result"
    }
   ],
   "source": [
    "item['question_ids'].device"
   ]
  },
  {
   "cell_type": "code",
   "execution_count": 21,
   "metadata": {},
   "outputs": [],
   "source": [
    "from murel.scripts.murel_train import get_dirs"
   ]
  },
  {
   "cell_type": "code",
   "execution_count": 25,
   "metadata": {},
   "outputs": [],
   "source": [
    "names = get_dirs(config, include_keys=['txt_enc', 'batch_size', 'lr', 'lr_decay_rate', \\\n",
    "                                                'unroll_steps', 'fusion_type'])"
   ]
  },
  {
   "cell_type": "code",
   "execution_count": 26,
   "metadata": {},
   "outputs": [
    {
     "data": {
      "text/plain": [
       "('/auto/homes/bat34/VQA_PartII/murel/trained_models/checkpoints/murel_txt_enc_BayesianUniSkip_batch_size_16_lr_5e-05_lr_decay_rate_0.25_unroll_steps_3_fusion_type_block/checkpoint.pth',\n",
       " '/auto/homes/bat34/VQA_PartII/murel/trained_models/best_models/murel_txt_enc_BayesianUniSkip_batch_size_16_lr_5e-05_lr_decay_rate_0.25_unroll_steps_3_fusion_type_block/best_model.pth')"
      ]
     },
     "execution_count": 26,
     "metadata": {},
     "output_type": "execute_result"
    }
   ],
   "source": [
    "names['checkpoint_file_name'], names['best_model_file_name']"
   ]
  },
  {
   "cell_type": "code",
   "execution_count": null,
   "metadata": {},
   "outputs": [],
   "source": [
    "import torch.nn as nn\n",
    "val_evaluate(model.cuda(), 1, train_loader, None)"
   ]
  },
  {
   "cell_type": "code",
   "execution_count": null,
   "metadata": {
    "scrolled": true
   },
   "outputs": [],
   "source": [
    "item = next(iter(murel_dataloader))"
   ]
  },
  {
   "cell_type": "code",
   "execution_count": null,
   "metadata": {},
   "outputs": [],
   "source": [
    "model.train()"
   ]
  },
  {
   "cell_type": "code",
   "execution_count": null,
   "metadata": {},
   "outputs": [],
   "source": [
    "res = model(item)"
   ]
  },
  {
   "cell_type": "code",
   "execution_count": null,
   "metadata": {},
   "outputs": [],
   "source": [
    "res.size()"
   ]
  },
  {
   "cell_type": "code",
   "execution_count": null,
   "metadata": {},
   "outputs": [],
   "source": [
    "item = {\n",
    "    'question_embedding' : torch.randn(2400).unsqueeze(0).expand(2, -1),\n",
    "    'object_features_list' : torch.randn(36, 2048).unsqueeze(0).expand(2, -1, -1),\n",
    "    'bounding_boxes' : torch.randn(36, 4).unsqueeze(0).expand(2, -1, -1)\n",
    "}\n",
    "res = model(item)"
   ]
  }
 ],
 "metadata": {
  "kernelspec": {
   "display_name": "Python 3",
   "language": "python",
   "name": "python3"
  },
  "language_info": {
   "codemirror_mode": {
    "name": "ipython",
    "version": 3
   },
   "file_extension": ".py",
   "mimetype": "text/x-python",
   "name": "python",
   "nbconvert_exporter": "python",
   "pygments_lexer": "ipython3",
   "version": "3.5.2"
  }
 },
 "nbformat": 4,
 "nbformat_minor": 2
}
