{
 "cells": [
  {
   "cell_type": "code",
   "execution_count": 1,
   "metadata": {},
   "outputs": [],
   "source": [
    "from murel.models.MurelNet import MurelNet\n",
    "from dataset.MurelNetDataset import MurelNetDataset\n",
    "from dataset.ConcatBaselineDataset import ConcatBaselineDataset\n",
    "import yaml\n",
    "import torch\n",
    "from torch.utils.data import DataLoader"
   ]
  },
  {
   "cell_type": "code",
   "execution_count": 2,
   "metadata": {},
   "outputs": [
    {
     "name": "stderr",
     "output_type": "stream",
     "text": [
      "/home/bat34/venv/lib/python3.5/site-packages/ipykernel_launcher.py:2: YAMLLoadWarning: calling yaml.load() without Loader=... is deprecated, as the default Loader is unsafe. Please read https://msg.pyyaml.org/load for full details.\n",
      "  \n"
     ]
    }
   ],
   "source": [
    "with open('murel/scripts/murel.yaml') as f:\n",
    "    config = yaml.load(f)\n",
    "    config = config['murel_options']\n",
    "model = MurelNet(config)"
   ]
  },
  {
   "cell_type": "code",
   "execution_count": 3,
   "metadata": {},
   "outputs": [
    {
     "name": "stdout",
     "output_type": "stream",
     "text": [
      "Processing....\n"
     ]
    },
    {
     "ename": "FileNotFoundError",
     "evalue": "[Errno 2] No such file or directory: '/media/bat34/Elements/VQA/Questions/v2_OpenEnded_mscoco_train2014_questions.json'",
     "output_type": "error",
     "traceback": [
      "\u001b[0;31m---------------------------------------------------------------------------\u001b[0m",
      "\u001b[0;31mFileNotFoundError\u001b[0m                         Traceback (most recent call last)",
      "\u001b[0;32m<ipython-input-3-64d6274404b5>\u001b[0m in \u001b[0;36m<module>\u001b[0;34m\u001b[0m\n\u001b[1;32m      3\u001b[0m                           \u001b[0mROOT_DIR\u001b[0m\u001b[0;34m=\u001b[0m\u001b[0;34m'/home/bat34/Desktop/VQA_PartII'\u001b[0m\u001b[0;34m,\u001b[0m\u001b[0;31m \u001b[0m\u001b[0;31m\\\u001b[0m\u001b[0;34m\u001b[0m\u001b[0m\n\u001b[1;32m      4\u001b[0m                           \u001b[0mskipthoughts_dir\u001b[0m\u001b[0;34m=\u001b[0m\u001b[0;34m'/home/bat34/Desktop/VQA_PartII/data/skipthoughts'\u001b[0m\u001b[0;34m,\u001b[0m\u001b[0;31m \u001b[0m\u001b[0;31m\\\u001b[0m\u001b[0;34m\u001b[0m\u001b[0m\n\u001b[0;32m----> 5\u001b[0;31m                           processed_dir='/home/bat34/Desktop/VQA_PartII/data/processed_splits')\n\u001b[0m\u001b[1;32m      6\u001b[0m \u001b[0mmurel_dataloader\u001b[0m \u001b[0;34m=\u001b[0m \u001b[0mDataLoader\u001b[0m\u001b[0;34m(\u001b[0m\u001b[0mdataset\u001b[0m\u001b[0;34m,\u001b[0m \u001b[0mbatch_size\u001b[0m\u001b[0;34m=\u001b[0m\u001b[0;36m4\u001b[0m\u001b[0;34m)\u001b[0m\u001b[0;34m\u001b[0m\u001b[0m\n",
      "\u001b[0;32m/auto/homes/bat34/VQA_PartII/dataset/MurelNetDataset.py\u001b[0m in \u001b[0;36m__init__\u001b[0;34m(self, bottom_up_features_dir, split, ROOT_DIR, txt_enc, collate_fn, processed_dir, model, vqa_dir, no_answers, sample_answers, skipthoughts_dir)\u001b[0m\n\u001b[1;32m     28\u001b[0m                  \u001b[0mno_answers\u001b[0m\u001b[0;34m=\u001b[0m\u001b[0mno_answers\u001b[0m\u001b[0;34m,\u001b[0m\u001b[0;31m \u001b[0m\u001b[0;31m\\\u001b[0m\u001b[0;34m\u001b[0m\u001b[0m\n\u001b[1;32m     29\u001b[0m                  \u001b[0msample_answers\u001b[0m\u001b[0;34m=\u001b[0m\u001b[0msample_answers\u001b[0m\u001b[0;34m,\u001b[0m\u001b[0;31m \u001b[0m\u001b[0;31m\\\u001b[0m\u001b[0;34m\u001b[0m\u001b[0m\n\u001b[0;32m---> 30\u001b[0;31m                  skipthoughts_dir=skipthoughts_dir)\n\u001b[0m\u001b[1;32m     31\u001b[0m         \u001b[0;31m#Change this#########\u001b[0m\u001b[0;34m\u001b[0m\u001b[0;34m\u001b[0m\u001b[0m\n\u001b[1;32m     32\u001b[0m         self.collate_fn = transforms.Compose([ \\\n",
      "\u001b[0;32m/auto/homes/bat34/VQA_PartII/dataset/AbstractVQADataset.py\u001b[0m in \u001b[0;36m__init__\u001b[0;34m(self, processed_dir, model, vqa_dir, no_answers, sample_answers, skipthoughts_dir, split)\u001b[0m\n\u001b[1;32m     24\u001b[0m         \u001b[0;32mif\u001b[0m \u001b[0;32mnot\u001b[0m \u001b[0mos\u001b[0m\u001b[0;34m.\u001b[0m\u001b[0mpath\u001b[0m\u001b[0;34m.\u001b[0m\u001b[0mexists\u001b[0m\u001b[0;34m(\u001b[0m\u001b[0mself\u001b[0m\u001b[0;34m.\u001b[0m\u001b[0mprocessed_dir\u001b[0m\u001b[0;34m)\u001b[0m\u001b[0;34m:\u001b[0m\u001b[0;34m\u001b[0m\u001b[0m\n\u001b[1;32m     25\u001b[0m             \u001b[0mprint\u001b[0m\u001b[0;34m(\u001b[0m\u001b[0;34m'Processing....'\u001b[0m\u001b[0;34m)\u001b[0m\u001b[0;34m\u001b[0m\u001b[0m\n\u001b[0;32m---> 26\u001b[0;31m             \u001b[0mself\u001b[0m\u001b[0;34m.\u001b[0m\u001b[0mprocess\u001b[0m\u001b[0;34m(\u001b[0m\u001b[0;34m)\u001b[0m\u001b[0;34m\u001b[0m\u001b[0m\n\u001b[0m\u001b[1;32m     27\u001b[0m         \u001b[0;32mif\u001b[0m \u001b[0msplit\u001b[0m \u001b[0;34m==\u001b[0m \u001b[0;34m'train'\u001b[0m\u001b[0;34m:\u001b[0m\u001b[0;34m\u001b[0m\u001b[0m\n\u001b[1;32m     28\u001b[0m             \u001b[0mself\u001b[0m\u001b[0;34m.\u001b[0m\u001b[0mdataset\u001b[0m \u001b[0;34m=\u001b[0m \u001b[0mtorch\u001b[0m\u001b[0;34m.\u001b[0m\u001b[0mload\u001b[0m\u001b[0;34m(\u001b[0m\u001b[0mos\u001b[0m\u001b[0;34m.\u001b[0m\u001b[0mpath\u001b[0m\u001b[0;34m.\u001b[0m\u001b[0mjoin\u001b[0m\u001b[0;34m(\u001b[0m\u001b[0mself\u001b[0m\u001b[0;34m.\u001b[0m\u001b[0mprocessed_dir\u001b[0m\u001b[0;34m,\u001b[0m \u001b[0;34m'train2014_processed.pth'\u001b[0m\u001b[0;34m)\u001b[0m\u001b[0;34m)\u001b[0m\u001b[0;34m\u001b[0m\u001b[0m\n",
      "\u001b[0;32m/auto/homes/bat34/VQA_PartII/dataset/AbstractVQADataset.py\u001b[0m in \u001b[0;36mprocess\u001b[0;34m(self)\u001b[0m\n\u001b[1;32m    162\u001b[0m         \u001b[0mpath_test_ques\u001b[0m \u001b[0;34m=\u001b[0m \u001b[0mos\u001b[0m\u001b[0;34m.\u001b[0m\u001b[0mpath\u001b[0m\u001b[0;34m.\u001b[0m\u001b[0mjoin\u001b[0m\u001b[0;34m(\u001b[0m\u001b[0mself\u001b[0m\u001b[0;34m.\u001b[0m\u001b[0mvqa_dir\u001b[0m\u001b[0;34m,\u001b[0m \u001b[0;34m'Questions'\u001b[0m\u001b[0;34m,\u001b[0m \u001b[0;34m'v2_OpenEnded_mscoco_test2015_questions.json'\u001b[0m\u001b[0;34m)\u001b[0m\u001b[0;34m\u001b[0m\u001b[0m\n\u001b[1;32m    163\u001b[0m \u001b[0;34m\u001b[0m\u001b[0m\n\u001b[0;32m--> 164\u001b[0;31m         \u001b[0;32mwith\u001b[0m \u001b[0mopen\u001b[0m\u001b[0;34m(\u001b[0m\u001b[0mpath_train_ques\u001b[0m\u001b[0;34m,\u001b[0m \u001b[0;34m'r'\u001b[0m\u001b[0;34m)\u001b[0m \u001b[0;32mas\u001b[0m \u001b[0mtrain_ques_handle\u001b[0m\u001b[0;34m,\u001b[0m \u001b[0mopen\u001b[0m\u001b[0;34m(\u001b[0m\u001b[0mpath_train_anno\u001b[0m\u001b[0;34m,\u001b[0m \u001b[0;34m'r'\u001b[0m\u001b[0;34m)\u001b[0m \u001b[0;32mas\u001b[0m \u001b[0mtrain_anno_handle\u001b[0m\u001b[0;34m:\u001b[0m\u001b[0;34m\u001b[0m\u001b[0m\n\u001b[0m\u001b[1;32m    165\u001b[0m             train_set = self.merge_questions_with_annotations(json.load(train_ques_handle), \\\n\u001b[1;32m    166\u001b[0m                 json.load(train_anno_handle))\n",
      "\u001b[0;31mFileNotFoundError\u001b[0m: [Errno 2] No such file or directory: '/media/bat34/Elements/VQA/Questions/v2_OpenEnded_mscoco_train2014_questions.json'"
     ]
    }
   ],
   "source": [
    "train_dataset = MurelNetDataset(split=\"train\", \\\n",
    "                                    txt_enc=config['txt_enc'], \\\n",
    "                                    bottom_up_features_dir=config['bottom_up_features_dir'], \\\n",
    "                                    skipthoughts_dir=config['skipthoughts_dir'], \\\n",
    "                                    processed_dir=config['processed_dir'], \\\n",
    "                                    ROOT_DIR=ROOT_DIR, \\\n",
    "                                    vqa_dir=config['vqa_dir'])\n",
    "val_dataset =   MurelNetDataset(split=\"val\", \\\n",
    "                                    txt_enc=config['txt_enc'], \\\n",
    "                                    bottom_up_features_dir=config['bottom_up_features_dir'], \\\n",
    "                                    skipthoughts_dir=config['skipthoughts_dir'], \\\n",
    "                                    processed_dir=config['processed_dir'], \\\n",
    "                                    ROOT_DIR=ROOT_DIR, \\\n",
    "                                    vqa_dir=config['vqa_dir'])\n",
    "train_loader = DataLoader(train_dataset, shuffle=True, \\\n",
    "                              batch_size=config['batch_size'], \\\n",
    "                             num_workers=config['num_workers'])\n",
    "val_loader = DataLoader(val_dataset, shuffle=True, \\\n",
    "                            batch_size=config['batch_size'], \\\n",
    "                            num_workers=config['num_workers'])"
   ]
  },
  {
   "cell_type": "code",
   "execution_count": null,
   "metadata": {},
   "outputs": [],
   "source": []
  },
  {
   "cell_type": "code",
   "execution_count": null,
   "metadata": {
    "scrolled": true
   },
   "outputs": [],
   "source": [
    "item = next(iter(murel_dataloader))"
   ]
  },
  {
   "cell_type": "code",
   "execution_count": null,
   "metadata": {},
   "outputs": [],
   "source": [
    "model.train()"
   ]
  },
  {
   "cell_type": "code",
   "execution_count": null,
   "metadata": {},
   "outputs": [],
   "source": [
    "res = model(item)"
   ]
  },
  {
   "cell_type": "code",
   "execution_count": null,
   "metadata": {},
   "outputs": [],
   "source": [
    "res.size()"
   ]
  },
  {
   "cell_type": "code",
   "execution_count": 5,
   "metadata": {},
   "outputs": [],
   "source": [
    "item = {\n",
    "    'question_embedding' : torch.randn(2400).unsqueeze(0).expand(2, -1),\n",
    "    'object_features_list' : torch.randn(36, 2048).unsqueeze(0).expand(2, -1, -1),\n",
    "    'bounding_boxes' : torch.randn(36, 4).unsqueeze(0).expand(2, -1, -1)\n",
    "}\n",
    "res = model(item)"
   ]
  },
  {
   "cell_type": "code",
   "execution_count": 7,
   "metadata": {},
   "outputs": [
    {
     "data": {
      "text/plain": [
       "torch.Size([2, 3000])"
      ]
     },
     "execution_count": 7,
     "metadata": {},
     "output_type": "execute_result"
    }
   ],
   "source": [
    "res.size()"
   ]
  },
  {
   "cell_type": "code",
   "execution_count": null,
   "metadata": {},
   "outputs": [],
   "source": [
    "object_features_list = item['object_features_list']"
   ]
  },
  {
   "cell_type": "code",
   "execution_count": null,
   "metadata": {},
   "outputs": [],
   "source": [
    "object_features_list.reshape(4 * 36, -1).size()"
   ]
  },
  {
   "cell_type": "code",
   "execution_count": null,
   "metadata": {},
   "outputs": [],
   "source": []
  }
 ],
 "metadata": {
  "kernelspec": {
   "display_name": "Python 3",
   "language": "python",
   "name": "python3"
  }
 },
 "nbformat": 4,
 "nbformat_minor": 2
}
