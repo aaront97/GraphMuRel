{
 "cells": [
  {
   "cell_type": "code",
   "execution_count": 1,
   "metadata": {},
   "outputs": [],
   "source": [
    "import torch \n",
    "import torch.nn as nn\n",
    "import torch.nn.functional as F\n",
    "from torch.utils.data import DataLoader\n",
    "import os\n",
    "import numpy as np\n",
    "import yaml\n",
    "from dataset.ConcatBaselineDataset import ConcatBaselineDataset\n",
    "from baseline.models.ConcatBaselineNet import ConcatBaselineNet\n",
    "from tensorboardX import SummaryWriter"
   ]
  },
  {
   "cell_type": "code",
   "execution_count": 2,
   "metadata": {},
   "outputs": [
    {
     "name": "stderr",
     "output_type": "stream",
     "text": [
      "/home/bat34/venv/lib/python3.5/site-packages/ipykernel_launcher.py:2: YAMLLoadWarning: calling yaml.load() without Loader=... is deprecated, as the default Loader is unsafe. Please read https://msg.pyyaml.org/load for full details.\n",
      "  \n"
     ]
    }
   ],
   "source": [
    "with open('baseline.yaml' ,'r') as f:\n",
    "    config = yaml.load(f)\n",
    "config = config['baseline_options']"
   ]
  },
  {
   "cell_type": "code",
   "execution_count": 3,
   "metadata": {},
   "outputs": [
    {
     "data": {
      "text/plain": [
       "{'batch_size': 16, 'dropout': 0.25, 'txt_enc': 'BayesianUniSkip'}"
      ]
     },
     "execution_count": 3,
     "metadata": {},
     "output_type": "execute_result"
    }
   ],
   "source": [
    "config"
   ]
  },
  {
   "cell_type": "code",
   "execution_count": 4,
   "metadata": {},
   "outputs": [],
   "source": [
    "train_dataset = ConcatBaselineDataset(split=\"train\", txt_enc=config['txt_enc'])\n",
    "val_dataset = ConcatBaselineDataset(split=\"val\", txt_enc=config['txt_enc'])"
   ]
  },
  {
   "cell_type": "code",
   "execution_count": 11,
   "metadata": {},
   "outputs": [],
   "source": [
    "#TODO: Specify num_workers if training in script\n",
    "train_loader = DataLoader(train_dataset, shuffle=True, batch_size=config['batch_size'], collate_fn=train_dataset.collate_fn)\n",
    "val_loader = DataLoader(val_dataset, shuffle=True, batch_size=config['batch_size'], collate_fn=val_dataset.collate_fn)"
   ]
  },
  {
   "cell_type": "code",
   "execution_count": 24,
   "metadata": {},
   "outputs": [
    {
     "data": {
      "text/plain": [
       "3000"
      ]
     },
     "execution_count": 24,
     "metadata": {},
     "output_type": "execute_result"
    }
   ],
   "source": [
    "input_dim = list(train_dataset[0]['concat_vector'].size())[0]\n",
    "out_dim = len(train_dataset.ans_to_aid)"
   ]
  },
  {
   "cell_type": "code",
   "execution_count": 70,
   "metadata": {},
   "outputs": [],
   "source": [
    "def get_hidden_layer_list(input_dim, out_dim, size):\n",
    "    if size <= 1:\n",
    "        return [input_dim, out_dim]\n",
    "    gap = input_dim - out_dim\n",
    "    if gap % size == 0:\n",
    "        repeat = size\n",
    "    else:\n",
    "        repeat = size - 1\n",
    "    hidden_list = [input_dim]\n",
    "    step = gap // size\n",
    "    for i in range(1, repeat + 1):\n",
    "        hidden_list.append(input_dim - i * step)\n",
    "    if gap % size != 0:\n",
    "        hidden_list.append(out_dim)\n",
    "    return hidden_list\n",
    "\n",
    "def create_summary_writer(model, loader, logdir):\n",
    "    batch = next(iter(loader))\n",
    "    writer = SummaryWriter(logdir=logdir)\n",
    "    try:\n",
    "        writer.add_graph(model, batch['concat_vector'])\n",
    "    except Exception as e:\n",
    "        print(\"Writer can't save model at {}\".format(logdir))\n",
    "        print(e)\n",
    "    return writer"
   ]
  },
  {
   "cell_type": "code",
   "execution_count": 71,
   "metadata": {},
   "outputs": [],
   "source": [
    "concatNet = ConcatBaselineNet(input_dim, out_dim, get_hidden_layer_list(input_dim, out_dim, 15), dropout=config['dropout'])"
   ]
  },
  {
   "cell_type": "code",
   "execution_count": 72,
   "metadata": {},
   "outputs": [
    {
     "data": {
      "text/plain": [
       "<tensorboardX.writer.SummaryWriter at 0x7f29c0fdaac8>"
      ]
     },
     "execution_count": 72,
     "metadata": {},
     "output_type": "execute_result"
    }
   ],
   "source": [
    "from tensorboardX import SummaryWriter\n",
    "create_summary_writer(concatNet, train_loader, '/auto/homes/bat34/VQA_PartII/baseline/logs/')"
   ]
  },
  {
   "cell_type": "code",
   "execution_count": 73,
   "metadata": {},
   "outputs": [
    {
     "name": "stdout",
     "output_type": "stream",
     "text": [
      "The tensorboard extension is already loaded. To reload it, use:\n",
      "  %reload_ext tensorboard\n"
     ]
    },
    {
     "data": {
      "text/plain": [
       "Reusing TensorBoard on port 6006 (pid 19321), started 0:06:18 ago. (Use '!kill 19321' to kill it.)"
      ]
     },
     "metadata": {},
     "output_type": "display_data"
    },
    {
     "data": {
      "text/html": [
       "\n",
       "      <iframe id=\"tensorboard-frame-946dc272160c1f3e\" width=\"100%\" height=\"800\" frameborder=\"0\">\n",
       "      </iframe>\n",
       "      <script>\n",
       "        (function() {\n",
       "          const frame = document.getElementById(\"tensorboard-frame-946dc272160c1f3e\");\n",
       "          const url = new URL(\"/\", window.location);\n",
       "          url.port = 6006;\n",
       "          frame.src = url;\n",
       "        })();\n",
       "      </script>\n",
       "  "
      ],
      "text/plain": [
       "<IPython.core.display.HTML object>"
      ]
     },
     "metadata": {},
     "output_type": "display_data"
    }
   ],
   "source": [
    "%load_ext tensorboard\n",
    "%tensorboard --logdir \"/auto/homes/bat34/VQA_PartII/baseline/logs\" --host \"0.0.0.0\" --port 6006"
   ]
  },
  {
   "cell_type": "code",
   "execution_count": null,
   "metadata": {},
   "outputs": [],
   "source": []
  }
 ],
 "metadata": {
  "kernelspec": {
   "display_name": "Python 3",
   "language": "python",
   "name": "python3"
  },
  "language_info": {
   "codemirror_mode": {
    "name": "ipython",
    "version": 3
   },
   "file_extension": ".py",
   "mimetype": "text/x-python",
   "name": "python",
   "nbconvert_exporter": "python",
   "pygments_lexer": "ipython3",
   "version": "3.5.2"
  }
 },
 "nbformat": 4,
 "nbformat_minor": 2
}
