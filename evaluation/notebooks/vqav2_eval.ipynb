{
 "cells": [
  {
   "cell_type": "code",
   "execution_count": 1,
   "metadata": {},
   "outputs": [],
   "source": [
    "%load_ext autoreload\n",
    "%autoreload 2\n",
    "from models.factory.ModelFactory import ModelFactory\n",
    "#from evaluation.VQA_Evaluator import VQA_Evaluator\n",
    "from dataset.VQAv2Dataset import VQAv2Dataset\n",
    "from torch.utils.data import DataLoader\n",
    "#import json\n",
    "#import os\n",
    "import torch\n",
    "import tqdm"
   ]
  },
  {
   "cell_type": "code",
   "execution_count": 2,
   "metadata": {},
   "outputs": [
    {
     "name": "stderr",
     "output_type": "stream",
     "text": [
      "/auto/homes/bat34/VQA_PartII/models/factory/ModelFactory.py:28: YAMLLoadWarning: calling yaml.load() without Loader=... is deprecated, as the default Loader is unsafe. Please read https://msg.pyyaml.org/load for full details.\n",
      "  config = yaml.load(f)\n"
     ]
    },
    {
     "data": {
      "text/plain": [
       "MurelNet(\n",
       "  (murel_cell): MurelCell(\n",
       "    (fusion_features): Block(\n",
       "      (linear0): Linear(in_features=4800, out_features=1000, bias=True)\n",
       "      (linear1): Linear(in_features=2048, out_features=1000, bias=True)\n",
       "      (merge_linears0): ModuleList(\n",
       "        (0): Linear(in_features=50, out_features=750, bias=True)\n",
       "        (1): Linear(in_features=50, out_features=750, bias=True)\n",
       "        (2): Linear(in_features=50, out_features=750, bias=True)\n",
       "        (3): Linear(in_features=50, out_features=750, bias=True)\n",
       "        (4): Linear(in_features=50, out_features=750, bias=True)\n",
       "        (5): Linear(in_features=50, out_features=750, bias=True)\n",
       "        (6): Linear(in_features=50, out_features=750, bias=True)\n",
       "        (7): Linear(in_features=50, out_features=750, bias=True)\n",
       "        (8): Linear(in_features=50, out_features=750, bias=True)\n",
       "        (9): Linear(in_features=50, out_features=750, bias=True)\n",
       "        (10): Linear(in_features=50, out_features=750, bias=True)\n",
       "        (11): Linear(in_features=50, out_features=750, bias=True)\n",
       "        (12): Linear(in_features=50, out_features=750, bias=True)\n",
       "        (13): Linear(in_features=50, out_features=750, bias=True)\n",
       "        (14): Linear(in_features=50, out_features=750, bias=True)\n",
       "        (15): Linear(in_features=50, out_features=750, bias=True)\n",
       "        (16): Linear(in_features=50, out_features=750, bias=True)\n",
       "        (17): Linear(in_features=50, out_features=750, bias=True)\n",
       "        (18): Linear(in_features=50, out_features=750, bias=True)\n",
       "        (19): Linear(in_features=50, out_features=750, bias=True)\n",
       "      )\n",
       "      (merge_linears1): ModuleList(\n",
       "        (0): Linear(in_features=50, out_features=750, bias=True)\n",
       "        (1): Linear(in_features=50, out_features=750, bias=True)\n",
       "        (2): Linear(in_features=50, out_features=750, bias=True)\n",
       "        (3): Linear(in_features=50, out_features=750, bias=True)\n",
       "        (4): Linear(in_features=50, out_features=750, bias=True)\n",
       "        (5): Linear(in_features=50, out_features=750, bias=True)\n",
       "        (6): Linear(in_features=50, out_features=750, bias=True)\n",
       "        (7): Linear(in_features=50, out_features=750, bias=True)\n",
       "        (8): Linear(in_features=50, out_features=750, bias=True)\n",
       "        (9): Linear(in_features=50, out_features=750, bias=True)\n",
       "        (10): Linear(in_features=50, out_features=750, bias=True)\n",
       "        (11): Linear(in_features=50, out_features=750, bias=True)\n",
       "        (12): Linear(in_features=50, out_features=750, bias=True)\n",
       "        (13): Linear(in_features=50, out_features=750, bias=True)\n",
       "        (14): Linear(in_features=50, out_features=750, bias=True)\n",
       "        (15): Linear(in_features=50, out_features=750, bias=True)\n",
       "        (16): Linear(in_features=50, out_features=750, bias=True)\n",
       "        (17): Linear(in_features=50, out_features=750, bias=True)\n",
       "        (18): Linear(in_features=50, out_features=750, bias=True)\n",
       "        (19): Linear(in_features=50, out_features=750, bias=True)\n",
       "      )\n",
       "      (linear_out): Linear(in_features=1000, out_features=2048, bias=True)\n",
       "    )\n",
       "    (fusion_box): Block(\n",
       "      (linear0): Linear(in_features=4, out_features=200, bias=True)\n",
       "      (linear1): Linear(in_features=4, out_features=200, bias=True)\n",
       "      (merge_linears0): ModuleList(\n",
       "        (0): Linear(in_features=40, out_features=200, bias=True)\n",
       "        (1): Linear(in_features=40, out_features=200, bias=True)\n",
       "        (2): Linear(in_features=40, out_features=200, bias=True)\n",
       "        (3): Linear(in_features=40, out_features=200, bias=True)\n",
       "        (4): Linear(in_features=40, out_features=200, bias=True)\n",
       "      )\n",
       "      (merge_linears1): ModuleList(\n",
       "        (0): Linear(in_features=40, out_features=200, bias=True)\n",
       "        (1): Linear(in_features=40, out_features=200, bias=True)\n",
       "        (2): Linear(in_features=40, out_features=200, bias=True)\n",
       "        (3): Linear(in_features=40, out_features=200, bias=True)\n",
       "        (4): Linear(in_features=40, out_features=200, bias=True)\n",
       "      )\n",
       "      (linear_out): Linear(in_features=200, out_features=2048, bias=True)\n",
       "    )\n",
       "    (fusion_fused): Block(\n",
       "      (linear0): Linear(in_features=2048, out_features=200, bias=True)\n",
       "      (linear1): Linear(in_features=2048, out_features=200, bias=True)\n",
       "      (merge_linears0): ModuleList(\n",
       "        (0): Linear(in_features=40, out_features=200, bias=True)\n",
       "        (1): Linear(in_features=40, out_features=200, bias=True)\n",
       "        (2): Linear(in_features=40, out_features=200, bias=True)\n",
       "        (3): Linear(in_features=40, out_features=200, bias=True)\n",
       "        (4): Linear(in_features=40, out_features=200, bias=True)\n",
       "      )\n",
       "      (merge_linears1): ModuleList(\n",
       "        (0): Linear(in_features=40, out_features=200, bias=True)\n",
       "        (1): Linear(in_features=40, out_features=200, bias=True)\n",
       "        (2): Linear(in_features=40, out_features=200, bias=True)\n",
       "        (3): Linear(in_features=40, out_features=200, bias=True)\n",
       "        (4): Linear(in_features=40, out_features=200, bias=True)\n",
       "      )\n",
       "      (linear_out): Linear(in_features=200, out_features=2048, bias=True)\n",
       "    )\n",
       "  )\n",
       "  (final_fusion): Block(\n",
       "    (linear0): Linear(in_features=4800, out_features=1600, bias=True)\n",
       "    (linear1): Linear(in_features=2048, out_features=1600, bias=True)\n",
       "    (merge_linears0): ModuleList(\n",
       "      (0): Linear(in_features=80, out_features=800, bias=True)\n",
       "      (1): Linear(in_features=80, out_features=800, bias=True)\n",
       "      (2): Linear(in_features=80, out_features=800, bias=True)\n",
       "      (3): Linear(in_features=80, out_features=800, bias=True)\n",
       "      (4): Linear(in_features=80, out_features=800, bias=True)\n",
       "      (5): Linear(in_features=80, out_features=800, bias=True)\n",
       "      (6): Linear(in_features=80, out_features=800, bias=True)\n",
       "      (7): Linear(in_features=80, out_features=800, bias=True)\n",
       "      (8): Linear(in_features=80, out_features=800, bias=True)\n",
       "      (9): Linear(in_features=80, out_features=800, bias=True)\n",
       "      (10): Linear(in_features=80, out_features=800, bias=True)\n",
       "      (11): Linear(in_features=80, out_features=800, bias=True)\n",
       "      (12): Linear(in_features=80, out_features=800, bias=True)\n",
       "      (13): Linear(in_features=80, out_features=800, bias=True)\n",
       "      (14): Linear(in_features=80, out_features=800, bias=True)\n",
       "      (15): Linear(in_features=80, out_features=800, bias=True)\n",
       "      (16): Linear(in_features=80, out_features=800, bias=True)\n",
       "      (17): Linear(in_features=80, out_features=800, bias=True)\n",
       "      (18): Linear(in_features=80, out_features=800, bias=True)\n",
       "      (19): Linear(in_features=80, out_features=800, bias=True)\n",
       "    )\n",
       "    (merge_linears1): ModuleList(\n",
       "      (0): Linear(in_features=80, out_features=800, bias=True)\n",
       "      (1): Linear(in_features=80, out_features=800, bias=True)\n",
       "      (2): Linear(in_features=80, out_features=800, bias=True)\n",
       "      (3): Linear(in_features=80, out_features=800, bias=True)\n",
       "      (4): Linear(in_features=80, out_features=800, bias=True)\n",
       "      (5): Linear(in_features=80, out_features=800, bias=True)\n",
       "      (6): Linear(in_features=80, out_features=800, bias=True)\n",
       "      (7): Linear(in_features=80, out_features=800, bias=True)\n",
       "      (8): Linear(in_features=80, out_features=800, bias=True)\n",
       "      (9): Linear(in_features=80, out_features=800, bias=True)\n",
       "      (10): Linear(in_features=80, out_features=800, bias=True)\n",
       "      (11): Linear(in_features=80, out_features=800, bias=True)\n",
       "      (12): Linear(in_features=80, out_features=800, bias=True)\n",
       "      (13): Linear(in_features=80, out_features=800, bias=True)\n",
       "      (14): Linear(in_features=80, out_features=800, bias=True)\n",
       "      (15): Linear(in_features=80, out_features=800, bias=True)\n",
       "      (16): Linear(in_features=80, out_features=800, bias=True)\n",
       "      (17): Linear(in_features=80, out_features=800, bias=True)\n",
       "      (18): Linear(in_features=80, out_features=800, bias=True)\n",
       "      (19): Linear(in_features=80, out_features=800, bias=True)\n",
       "    )\n",
       "    (linear_out): Linear(in_features=1600, out_features=3000, bias=True)\n",
       "  )\n",
       "  (log_softmax): LogSoftmax()\n",
       "  (txt_enc): BayesianUniSkip(\n",
       "    (embedding): Embedding(12839, 620, padding_idx=0)\n",
       "    (rnn): BayesianGRU(\n",
       "      (gru_cell): BayesianGRUCell(\n",
       "        (weight_ir): Linear(in_features=620, out_features=2400, bias=True)\n",
       "        (weight_ii): Linear(in_features=620, out_features=2400, bias=True)\n",
       "        (weight_in): Linear(in_features=620, out_features=2400, bias=True)\n",
       "        (weight_hr): Linear(in_features=2400, out_features=2400, bias=False)\n",
       "        (weight_hi): Linear(in_features=2400, out_features=2400, bias=False)\n",
       "        (weight_hn): Linear(in_features=2400, out_features=2400, bias=False)\n",
       "        (drop_ir): SequentialDropout(0.2500)\n",
       "        (drop_ii): SequentialDropout(0.2500)\n",
       "        (drop_in): SequentialDropout(0.2500)\n",
       "        (drop_hr): SequentialDropout(0.2500)\n",
       "        (drop_hi): SequentialDropout(0.2500)\n",
       "        (drop_hn): SequentialDropout(0.2500)\n",
       "      )\n",
       "    )\n",
       "  )\n",
       "  (linear0): Linear(in_features=2400, out_features=512, bias=True)\n",
       "  (linear1): Linear(in_features=512, out_features=2, bias=True)\n",
       ")"
      ]
     },
     "execution_count": 2,
     "metadata": {},
     "output_type": "execute_result"
    }
   ],
   "source": [
    "model_factory = ModelFactory()\n",
    "model_type = 'murel'\n",
    "config = model_factory.create_config(model_type)\n",
    "wid_to_word = torch.load('/auto/homes/bat34/VQA_PartII/data/processed_splits/wid_to_word.pth')\n",
    "word_vocabulary = [wid_to_word[i] for i in range(1, len(wid_to_word) + 1)]\n",
    "model = model_factory.create_model(model_type, config, word_vocabulary)\n",
    "#OLD_TRAINED_FILES = '/local/scratch/bat34/baseline_trained_models/best_models/{}/best_model.pth'\n",
    "OLD_TRAINED_FILES = '/local/scratch/bat34/murel_trained_models/best_models/{}/best_model.pth'\n",
    "#MODEL_NAME = 'agg_concat_sum_corrected_wid_seed_1337_agg_type_sum_q_self_attention_True_txt_enc_BayesianUniSkip_batch_size_256_lr_0.0003_fusion_type_concat_mlp'\n",
    "#MODEL_NAME = 'concat_baseline_self_attention_corrected_wid_seed_2048_txt_enc_BayesianUniSkip_batch_size_256_lr_0.0003_lr_decay_rate_0.25_hidden_list_[1600, 1600]_attention_fusion_type_block_final_fusion_type_block'\n",
    "#MODEL_NAME = 'graph_conv_graph_type_knn24_seed_6969_loss_function_NLLLoss_txt_enc_BayesianUniSkip_batch_size_256_lr_0.0003_lr_decay_rate_0.25_unroll_steps_3_fusion_type_block'\n",
    "MODEL_NAME = 'murel_dropout_corrected_wid_seed_1337_murel_attention_False_loss_function_NLLLoss_txt_enc_BayesianUniSkip_pooling_agg_max_pairwise_agg_max_batch_size_256_lr_0.0003_lr_decay_rate_0.25_unroll_steps_3_fusion_type_block'\n",
    "MODEL_SAVE_NAME = OLD_TRAINED_FILES.format(MODEL_NAME)\n",
    "best_ckpt = torch.load(MODEL_SAVE_NAME)\n",
    "model.load_state_dict(best_ckpt['model'])\n",
    "model.cuda()"
   ]
  },
  {
   "cell_type": "code",
   "execution_count": 5,
   "metadata": {},
   "outputs": [],
   "source": [
    "test_dataset = VQAv2Dataset(\n",
    "        split=\"test\",\n",
    "        txt_enc=config['txt_enc'],\n",
    "        bottom_up_features_dir=config['bottom_up_features_dir'],\n",
    "        skipthoughts_dir=config['skipthoughts_dir'],\n",
    "        processed_dir=config['processed_dir'],\n",
    "        ROOT_DIR=config['ROOT_DIR'],\n",
    "        vqa_dir=config['vqa_dir'])\n",
    "\n",
    "test_loader = DataLoader(\n",
    "        test_dataset,\n",
    "        shuffle=True,\n",
    "        batch_size=1,\n",
    "        num_workers=0,\n",
    "        collate_fn=test_dataset.collate_fn)"
   ]
  },
  {
   "cell_type": "code",
   "execution_count": 6,
   "metadata": {},
   "outputs": [],
   "source": [
    "torch.cuda.empty_cache()"
   ]
  },
  {
   "cell_type": "code",
   "execution_count": 2,
   "metadata": {},
   "outputs": [
    {
     "name": "stderr",
     "output_type": "stream",
     "text": [
      "/auto/homes/bat34/VQA_PartII/models/factory/ModelFactory.py:34: YAMLLoadWarning: calling yaml.load() without Loader=... is deprecated, as the default Loader is unsafe. Please read https://msg.pyyaml.org/load for full details.\n",
      "  config = yaml.load(f)\n"
     ]
    }
   ],
   "source": [
    "model_factory = ModelFactory()\n",
    "config = model_factory.create_config('frcnn_concat')\n",
    "test_dataset = VQAv2Dataset(\n",
    "        split=\"test\",\n",
    "        txt_enc=config['txt_enc'],\n",
    "        bottom_up_features_dir=config['bottom_up_features_dir'],\n",
    "        skipthoughts_dir=config['skipthoughts_dir'],\n",
    "        processed_dir=config['processed_dir'],\n",
    "        ROOT_DIR=config['ROOT_DIR'],\n",
    "        vqa_dir=config['vqa_dir'])\n",
    "\n",
    "test_loader = DataLoader(\n",
    "        test_dataset,\n",
    "        shuffle=True,\n",
    "        batch_size=1024,\n",
    "        num_workers=config['num_workers'],\n",
    "        collate_fn=test_dataset.collate_fn)\n",
    "\n",
    "# Construct word vocabulary\n",
    "word_vocabulary = [test_dataset.wid_to_word[i] for i in range(1, len(test_dataset.wid_to_word) + 1)]\n",
    "\n",
    "\n",
    "model = model_factory.create_model('frcnn_concat', config, word_vocabulary)\n",
    "model = model.cuda()\n"
   ]
  },
  {
   "cell_type": "code",
   "execution_count": 3,
   "metadata": {},
   "outputs": [],
   "source": [
    "OLD_TRAINED_FILES = '/local/scratch/bat34/baseline_trained_models/best_models/{}/best_model.pth'\n",
    "#OLD_TRAINED_FILES = '/home/bat34/VQA_PartII/models/baseline/trained_models/best_models/{}/best_model.pth'"
   ]
  },
  {
   "cell_type": "code",
   "execution_count": 4,
   "metadata": {},
   "outputs": [],
   "source": [
    "MODEL_NAME = 'agg_concat_min_corrected_wid_seed_2048_agg_type_min_q_self_attention_True_txt_enc_BayesianUniSkip_batch_size_256_lr_0.0003_fusion_type_concat_mlp'"
   ]
  },
  {
   "cell_type": "code",
   "execution_count": 5,
   "metadata": {},
   "outputs": [
    {
     "data": {
      "text/plain": [
       "<All keys matched successfully>"
      ]
     },
     "execution_count": 5,
     "metadata": {},
     "output_type": "execute_result"
    }
   ],
   "source": [
    "MODEL_SAVE_NAME = OLD_TRAINED_FILES.format(MODEL_NAME)\n",
    "best_ckpt = torch.load(MODEL_SAVE_NAME)\n",
    "model.load_state_dict(best_ckpt['model'])"
   ]
  },
  {
   "cell_type": "code",
   "execution_count": 6,
   "metadata": {},
   "outputs": [],
   "source": [
    "def evaluate(config, model, val_loader,\n",
    "                 evaluator, aid_to_ans,\n",
    "                 RESULTS_FILE_PATH, device):\n",
    "    model.eval()\n",
    "    print('Running model on validation dataset..')\n",
    "    with torch.no_grad():\n",
    "        results = []\n",
    "        total_batch_loss = 0\n",
    "        batch_iter = 0\n",
    "        for data in tqdm.tqdm(val_loader):\n",
    "            item = {\n",
    "                    'question_ids': data['question_ids'].cuda(),\n",
    "                    'object_features_list': data['object_features_list'].cuda(),\n",
    "                    'bounding_boxes': data['bounding_boxes'].cuda(),\n",
    "                    'question_lengths': data['question_lengths'].cuda()\n",
    "            }\n",
    "\n",
    "            if 'murel' in config['name'] and config['use_graph_module']:\n",
    "                item['graph_batch'] = data['graph'].to(device)\n",
    "\n",
    "            inputs = item\n",
    "            qids = data['question_unique_id']\n",
    "            outputs = model(inputs)\n",
    "\n",
    "            values, ans_indices = torch.max(outputs, dim=1)\n",
    "            ans_indices = list(ans_indices)\n",
    "            ans_indices = [tsr.item() for tsr in ans_indices]\n",
    "            for qid, ans_idx in zip(qids, ans_indices):\n",
    "                results.append({\n",
    "                    'question_id': int(qid),\n",
    "                    'answer': aid_to_ans[ans_idx]\n",
    "                })\n",
    "            batch_iter += 1\n",
    "\n",
    "    print('Finished evaluating the model on the val dataset.')\n",
    "    print('Saving results to %s' % RESULTS_FILE_PATH)\n",
    "    with open(RESULTS_FILE_PATH, 'w') as f:\n",
    "        json.dump(results, f)\n",
    "    print('Done saving to %s' % RESULTS_FILE_PATH)\n",
    "#     print('Calling VQA evaluation subroutine')\n",
    "#     # We let the evaluator do all the tensorboard logging for accuracy\n",
    "#     accuracy = evaluator.evaluate(RESULTS_FILE_PATH, 1)\n",
    "#     print(\"Validation Results  Overall  accuracy: {:.2f}\".format( accuracy))"
   ]
  },
  {
   "cell_type": "code",
   "execution_count": 7,
   "metadata": {},
   "outputs": [
    {
     "name": "stderr",
     "output_type": "stream",
     "text": [
      "\r",
      "  0%|          | 0/438 [00:00<?, ?it/s]"
     ]
    },
    {
     "name": "stdout",
     "output_type": "stream",
     "text": [
      "Running model on validation dataset..\n"
     ]
    },
    {
     "name": "stderr",
     "output_type": "stream",
     "text": [
      "/home/bat34/venv/lib/python3.5/site-packages/torch/nn/functional.py:1351: UserWarning: nn.functional.sigmoid is deprecated. Use torch.sigmoid instead.\n",
      "  warnings.warn(\"nn.functional.sigmoid is deprecated. Use torch.sigmoid instead.\")\n",
      "/home/bat34/venv/lib/python3.5/site-packages/torch/nn/functional.py:1340: UserWarning: nn.functional.tanh is deprecated. Use torch.tanh instead.\n",
      "  warnings.warn(\"nn.functional.tanh is deprecated. Use torch.tanh instead.\")\n",
      "100%|██████████| 438/438 [05:21<00:00,  1.36it/s]\n"
     ]
    },
    {
     "name": "stdout",
     "output_type": "stream",
     "text": [
      "Finished evaluating the model on the val dataset.\n",
      "Saving results to /local/scratch/bat34/test_result_files/agg_concat_min_corrected_wid_seed_2048_agg_type_min_q_self_at\n",
      "Done saving to /local/scratch/bat34/test_result_files/agg_concat_min_corrected_wid_seed_2048_agg_type_min_q_self_at\n"
     ]
    }
   ],
   "source": [
    "evaluator = None\n",
    "SAVE_FILE = '/home/bat34/VQA_PartII/models/'\n",
    "SAVE_NAME = '/local/scratch/bat34/test_result_files/{}.json'.format(MODEL_NAME)\n",
    "SAVE_NAME = SAVE_NAME if len(SAVE_NAME) <= 100 else SAVE_NAME[:100]\n",
    "evaluate(config, model, test_loader, evaluator, test_dataset.aid_to_ans, \n",
    "            SAVE_NAME, 'cuda')"
   ]
  },
  {
   "cell_type": "code",
   "execution_count": null,
   "metadata": {},
   "outputs": [],
   "source": []
  }
 ],
 "metadata": {
  "kernelspec": {
   "display_name": "Python 3",
   "language": "python",
   "name": "python3"
  },
  "language_info": {
   "codemirror_mode": {
    "name": "ipython",
    "version": 3
   },
   "file_extension": ".py",
   "mimetype": "text/x-python",
   "name": "python",
   "nbconvert_exporter": "python",
   "pygments_lexer": "ipython3",
   "version": "3.5.2"
  }
 },
 "nbformat": 4,
 "nbformat_minor": 2
}
