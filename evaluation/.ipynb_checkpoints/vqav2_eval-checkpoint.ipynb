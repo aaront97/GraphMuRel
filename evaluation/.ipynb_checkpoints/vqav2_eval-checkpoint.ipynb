{
 "cells": [
  {
   "cell_type": "code",
   "execution_count": 7,
   "metadata": {},
   "outputs": [
    {
     "name": "stdout",
     "output_type": "stream",
     "text": [
      "The autoreload extension is already loaded. To reload it, use:\n",
      "  %reload_ext autoreload\n",
      "The autoreload extension is already loaded. To reload it, use:\n",
      "  %reload_ext autoreload\n"
     ]
    }
   ],
   "source": [
    "%load_ext autoreload\n",
    "%autoreload 2\n",
    "from models.factory.ModelFactory import ModelFactory\n",
    "from evaluation.eval_vqa import VQA_Evaluator\n",
    "from dataset.VQAv2Dataset import VQAv2Dataset\n",
    "from torch.utils.data import DataLoader\n",
    "import json\n",
    "import os\n",
    "import torch\n",
    "import tqdm"
   ]
  },
  {
   "cell_type": "code",
   "execution_count": null,
   "metadata": {},
   "outputs": [],
   "source": [
    "model_factory = ModelFactory()\n",
    "config = model_factory.create_config('frcnn_concat')\n",
    "val_dataset = VQAv2Dataset(\n",
    "        split=\"val\",\n",
    "        txt_enc=config['txt_enc'],\n",
    "        bottom_up_features_dir=config['bottom_up_features_dir'],\n",
    "        skipthoughts_dir=config['skipthoughts_dir'],\n",
    "        processed_dir=config['processed_dir'],\n",
    "        ROOT_DIR=config['ROOT_DIR'],\n",
    "        vqa_dir=config['vqa_dir'])\n",
    "\n",
    "val_loader = DataLoader(\n",
    "        val_dataset,\n",
    "        shuffle=True,\n",
    "        batch_size=config['batch_size']//config['reduction_factor'],\n",
    "        num_workers=config['num_workers'],\n",
    "        collate_fn=val_dataset.collate_fn)\n",
    "\n",
    "# Construct word vocabulary\n",
    "word_vocabulary = [word for _, word in val_dataset.word_to_wid.items()]\n",
    "\n",
    "\n",
    "model = model_factory.create_model('frcnn_concat', config, word_vocabulary)\n",
    "model = model.cuda()\n",
    "OLD_TRAINED_FILES = '/auto/homes/bat34/VQA_PartII/models/baseline/trained_models/best_models/{}/best_model.pth'"
   ]
  },
  {
   "cell_type": "code",
   "execution_count": null,
   "metadata": {},
   "outputs": [],
   "source": [
    "MODEL_NAME = 'agg_concat_max_agg_type_max_q_self_attention_False_txt_enc_BayesianUniSkip_batch_size_256_lr_0.0001_fusion_type_concat_mlp'"
   ]
  },
  {
   "cell_type": "code",
   "execution_count": null,
   "metadata": {},
   "outputs": [],
   "source": [
    "MODEL_NAME = OLD_TRAINED_FILES.format(MODEL_NAME)\n",
    "best_ckpt = torch.load(MODEL_NAME)\n",
    "model.load_state_dict(best_ckpt['model'])"
   ]
  },
  {
   "cell_type": "code",
   "execution_count": null,
   "metadata": {},
   "outputs": [],
   "source": [
    "def val_evaluate(config, model, val_loader,\n",
    "                 evaluator, aid_to_ans,\n",
    "                 RESULTS_FILE_PATH, device):\n",
    "    model.eval()\n",
    "    print('Running model on validation dataset..')\n",
    "    with torch.no_grad():\n",
    "        results = []\n",
    "        total_batch_loss = 0\n",
    "        batch_iter = 0\n",
    "        for data in tqdm.tqdm(val_loader):\n",
    "            item = {\n",
    "                    'question_ids': data['question_ids'].cuda(),\n",
    "                    'object_features_list': data['object_features_list'].cuda(),\n",
    "                    'bounding_boxes': data['bounding_boxes'].cuda(),\n",
    "                    'answer_id': torch.squeeze(data['answer_id']).cuda(),\n",
    "                    'question_lengths': data['question_lengths'].cuda()\n",
    "            }\n",
    "\n",
    "            if 'murel' in config['name'] and config['use_graph_module']:\n",
    "                item['graph_batch'] = data['graph'].to(device)\n",
    "\n",
    "            inputs = item\n",
    "            qids = data['question_unique_id']\n",
    "            outputs = model(inputs)\n",
    "            labels = item['answer_id']\n",
    "            total_batch_loss += loss.item()\n",
    "\n",
    "            values, ans_indices = torch.max(outputs, dim=1)\n",
    "            ans_indices = list(ans_indices)\n",
    "            ans_indices = [tsr.item() for tsr in ans_indices]\n",
    "            for qid, ans_idx in zip(qids, ans_indices):\n",
    "                results.append({\n",
    "                    'question_id': int(qid),\n",
    "                    'answer': aid_to_ans[ans_idx]\n",
    "                })\n",
    "            batch_iter += 1\n",
    "\n",
    "    print('Finished evaluating the model on the val dataset.')\n",
    "    print('Saving results to %s' % RESULTS_FILE_PATH)\n",
    "    with open(RESULTS_FILE_PATH, 'w') as f:\n",
    "        json.dump(results, f)\n",
    "    print('Done saving to %s' % RESULTS_FILE_PATH)\n",
    "    print('Calling VQA evaluation subroutine')\n",
    "    # We let the evaluator do all the tensorboard logging for accuracy\n",
    "    accuracy = evaluator.evaluate(RESULTS_FILE_PATH, epoch)\n",
    "    print(\"Validation Results  Overall  accuracy: {:.2f}\".format( accuracy))\n",
    "    return accuracy, total_batch_loss"
   ]
  },
  {
   "cell_type": "code",
   "execution_count": null,
   "metadata": {},
   "outputs": [],
   "source": [
    "evaluator = VQA_Evaluator()\n",
    "val_evaluate(config, model, val_loader, evaluator, val_dataset.aid_to_ans, \n",
    "             '/home/bat34/VQA_PartII/models/baseline/temp.json', 'cuda')"
   ]
  },
  {
   "cell_type": "code",
   "execution_count": null,
   "metadata": {},
   "outputs": [],
   "source": []
  },
  {
   "cell_type": "code",
   "execution_count": null,
   "metadata": {},
   "outputs": [],
   "source": []
  }
 ],
 "metadata": {
  "kernelspec": {
   "display_name": "Python 3",
   "language": "python",
   "name": "python3"
  },
  "language_info": {
   "codemirror_mode": {
    "name": "ipython",
    "version": 3
   },
   "file_extension": ".py",
   "mimetype": "text/x-python",
   "name": "python",
   "nbconvert_exporter": "python",
   "pygments_lexer": "ipython3",
   "version": "3.5.2"
  }
 },
 "nbformat": 4,
 "nbformat_minor": 2
}
