{
 "cells": [
  {
   "cell_type": "code",
   "execution_count": null,
   "metadata": {},
   "outputs": [],
   "source": [
    "import os\n",
    "import torch\n",
    "import json\n",
    "import yaml\n",
    "import tqdm\n",
    "from dataset.ConcatBaselineDataset import ConcatBaselineDataset\n",
    "from baseline.models.ConcatBaselineNet import ConcatBaselineNet\n",
    "from dataset.VQAv2Dataset import VQAv2Dataset\n",
    "from murel.models.MurelNet import MurelNet\n",
    "from baseline.scripts.train_baseline import get_hidden_layer_list\n",
    "from torch.utils.data import DataLoader\n",
    "import transforms.transforms as trfm"
   ]
  },
  {
   "cell_type": "code",
   "execution_count": null,
   "metadata": {},
   "outputs": [],
   "source": [
    "DATA_DIR = \"/auto/homes/bat34/VQA/\"\n",
    "ROOT_DIR = \"/auto/homes/bat34/VQA_PartII/\"\n",
    "test_dataset = ConcatBaselineDatasewt(split='test')\n",
    "test_collate_fn = trfm.Compose([\\\n",
    "                              trfm.ConvertBatchListToDict(), \\\n",
    "                              trfm.CreateBatchItem(), \\\n",
    "                              trfm.PrepareBaselineTestBatch() \\\n",
    "            ])\n",
    "\n",
    "\n",
    "\n",
    "with open(os.path.join(ROOT_DIR, 'baseline', 'scripts', 'baseline.yaml')) as f:\n",
    "        config = yaml.load(f)\n",
    "config = config['baseline_options']\n",
    "test_loader = DataLoader(test_dataset, shuffle=False, \\\n",
    "                              batch_size=config['batch_size'], \\\n",
    "                              collate_fn=test_collate_fn,\\\n",
    "                             num_workers=config['num_workers'])\n",
    "input_dim = list(test_dataset[0]['concat_vector'].size())[0]\n",
    "out_dim = len(test_dataset.ans_to_aid)\n",
    "size = config['max_depth']\n",
    "hidden_list = get_hidden_layer_list(input_dim, out_dim, size)\n",
    "model = ConcatBaselineNet(input_dim, out_dim, \\\n",
    "                                  hidden_list, \\\n",
    "                                  dropout=config['dropout'])\n",
    "\n",
    "\n",
    "#Path to model weights with best performance on the validation dataset\n",
    "model.load_state_dict(torch.load(os.path.join(ROOT_DIR, 'baseline', 'trained_models', \\\n",
    "                                   'murel_txt_enc_BayesianUniSkip_batch_size_84_lr_0.0003_lr_decay_rate_0.25_unroll_steps_3_fusion_type_block_accuracy_0.5468845330673355_epoch_23_BEST.pth')))\n",
    "model.cuda()\n",
    "model.eval()"
   ]
  },
  {
   "cell_type": "code",
   "execution_count": null,
   "metadata": {},
   "outputs": [],
   "source": [
    "results = []\n",
    "with torch.no_grad():\n",
    "    for data in tqdm.tqdm(test_loader):\n",
    "        inputs, qids = data[0].cuda(), data[1]\n",
    "        outputs = model(inputs)\n",
    "        values, ans_indices = torch.max(outputs, dim=1)\n",
    "        ans_indices = list(ans_indices)\n",
    "        ans_indices = [tsr.item() for tsr in ans_indices]\n",
    "        for qid, ans_idx in zip(qids, ans_indices):\n",
    "            results.append({\n",
    "                'question_id': int(qid),\n",
    "                'answer': test_dataset.aid_to_ans[ans_idx]\n",
    "            })"
   ]
  },
  {
   "cell_type": "code",
   "execution_count": null,
   "metadata": {},
   "outputs": [],
   "source": [
    "with open(os.path.join(ROOT_DIR, 'baseline', 'baseline_test-dev2015_results.json'), 'w') as f:\n",
    "    json.dump(results, f)"
   ]
  }
 ],
 "metadata": {},
 "nbformat": 4,
 "nbformat_minor": 2
}
