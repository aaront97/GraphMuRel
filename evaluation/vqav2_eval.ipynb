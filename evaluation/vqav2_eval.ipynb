{
 "cells": [
  {
   "cell_type": "code",
   "execution_count": 1,
   "metadata": {},
   "outputs": [],
   "source": [
    "%load_ext autoreload\n",
    "%autoreload 2\n",
    "from models.factory.ModelFactory import ModelFactory\n",
    "from evaluation.eval_vqa import VQA_Evaluator\n",
    "from dataset.VQAv2Dataset import VQAv2Dataset\n",
    "from torch.utils.data import DataLoader\n",
    "import json\n",
    "import os\n",
    "import torch\n",
    "import tqdm"
   ]
  },
  {
   "cell_type": "code",
   "execution_count": 2,
   "metadata": {},
   "outputs": [
    {
     "name": "stderr",
     "output_type": "stream",
     "text": [
      "/auto/homes/bat34/VQA_PartII/models/factory/ModelFactory.py:34: YAMLLoadWarning: calling yaml.load() without Loader=... is deprecated, as the default Loader is unsafe. Please read https://msg.pyyaml.org/load for full details.\n",
      "  config = yaml.load(f)\n"
     ]
    },
    {
     "name": "stdout",
     "output_type": "stream",
     "text": [
      "Warning: 12838/930911 words are not in dictionary, thus set UNK\n"
     ]
    }
   ],
   "source": [
    "model_factory = ModelFactory()\n",
    "config = model_factory.create_config('frcnn_concat')\n",
    "test_dataset = VQAv2Dataset(\n",
    "        split=\"test\",\n",
    "        txt_enc=config['txt_enc'],\n",
    "        bottom_up_features_dir=config['bottom_up_features_dir'],\n",
    "        skipthoughts_dir=config['skipthoughts_dir'],\n",
    "        processed_dir=config['processed_dir'],\n",
    "        ROOT_DIR=config['ROOT_DIR'],\n",
    "        vqa_dir=config['vqa_dir'])\n",
    "\n",
    "test_loader = DataLoader(\n",
    "        test_dataset,\n",
    "        shuffle=True,\n",
    "        batch_size=1024,\n",
    "        num_workers=config['num_workers'],\n",
    "        collate_fn=test_dataset.collate_fn)\n",
    "\n",
    "# Construct word vocabulary\n",
    "word_vocabulary = [word for _,word in test_dataset.word_to_wid.items()]\n",
    "\n",
    "\n",
    "model = model_factory.create_model('frcnn_concat', config, word_vocabulary)\n",
    "model = model.cuda()\n"
   ]
  },
  {
   "cell_type": "code",
   "execution_count": 3,
   "metadata": {},
   "outputs": [],
   "source": [
    "OLD_TRAINED_FILES = '/local/scratch/bat34/baseline_trained_models/best_models/{}/best_model.pth'\n",
    "#OLD_TRAINED_FILES = '/home/bat34/VQA_PartII/models/baseline/trained_models/best_models/{}/best_model.pth'"
   ]
  },
  {
   "cell_type": "code",
   "execution_count": 4,
   "metadata": {},
   "outputs": [],
   "source": [
    "MODEL_NAME = 'agg_concat_min_seed_2048_agg_type_min_q_self_attention_True_txt_enc_BayesianUniSkip_batch_size_256_lr_0.0003_fusion_type_concat_mlp'"
   ]
  },
  {
   "cell_type": "code",
   "execution_count": 5,
   "metadata": {},
   "outputs": [
    {
     "data": {
      "text/plain": [
       "<All keys matched successfully>"
      ]
     },
     "execution_count": 5,
     "metadata": {},
     "output_type": "execute_result"
    }
   ],
   "source": [
    "MODEL_SAVE_NAME = OLD_TRAINED_FILES.format(MODEL_NAME)\n",
    "best_ckpt = torch.load(MODEL_SAVE_NAME)\n",
    "model.load_state_dict(best_ckpt['model'])"
   ]
  },
  {
   "cell_type": "code",
   "execution_count": 6,
   "metadata": {},
   "outputs": [],
   "source": [
    "def evaluate(config, model, val_loader,\n",
    "                 evaluator, aid_to_ans,\n",
    "                 RESULTS_FILE_PATH, device):\n",
    "    model.eval()\n",
    "    print('Running model on validation dataset..')\n",
    "    with torch.no_grad():\n",
    "        results = []\n",
    "        total_batch_loss = 0\n",
    "        batch_iter = 0\n",
    "        for data in tqdm.tqdm(val_loader):\n",
    "            item = {\n",
    "                    'question_ids': data['question_ids'].cuda(),\n",
    "                    'object_features_list': data['object_features_list'].cuda(),\n",
    "                    'bounding_boxes': data['bounding_boxes'].cuda(),\n",
    "                    'question_lengths': data['question_lengths'].cuda()\n",
    "            }\n",
    "\n",
    "            if 'murel' in config['name'] and config['use_graph_module']:\n",
    "                item['graph_batch'] = data['graph'].to(device)\n",
    "\n",
    "            inputs = item\n",
    "            qids = data['question_unique_id']\n",
    "            outputs = model(inputs)\n",
    "\n",
    "            values, ans_indices = torch.max(outputs, dim=1)\n",
    "            ans_indices = list(ans_indices)\n",
    "            ans_indices = [tsr.item() for tsr in ans_indices]\n",
    "            for qid, ans_idx in zip(qids, ans_indices):\n",
    "                results.append({\n",
    "                    'question_id': int(qid),\n",
    "                    'answer': aid_to_ans[ans_idx]\n",
    "                })\n",
    "            batch_iter += 1\n",
    "\n",
    "    print('Finished evaluating the model on the val dataset.')\n",
    "    print('Saving results to %s' % RESULTS_FILE_PATH)\n",
    "    with open(RESULTS_FILE_PATH, 'w') as f:\n",
    "        json.dump(results, f)\n",
    "    print('Done saving to %s' % RESULTS_FILE_PATH)\n",
    "#     print('Calling VQA evaluation subroutine')\n",
    "#     # We let the evaluator do all the tensorboard logging for accuracy\n",
    "#     accuracy = evaluator.evaluate(RESULTS_FILE_PATH, 1)\n",
    "#     print(\"Validation Results  Overall  accuracy: {:.2f}\".format( accuracy))"
   ]
  },
  {
   "cell_type": "code",
   "execution_count": 7,
   "metadata": {},
   "outputs": [
    {
     "name": "stderr",
     "output_type": "stream",
     "text": [
      "\r",
      "  0%|          | 0/438 [00:00<?, ?it/s]"
     ]
    },
    {
     "name": "stdout",
     "output_type": "stream",
     "text": [
      "Running model on validation dataset..\n"
     ]
    },
    {
     "name": "stderr",
     "output_type": "stream",
     "text": [
      "/home/bat34/venv/lib/python3.5/site-packages/torch/nn/functional.py:1351: UserWarning: nn.functional.sigmoid is deprecated. Use torch.sigmoid instead.\n",
      "  warnings.warn(\"nn.functional.sigmoid is deprecated. Use torch.sigmoid instead.\")\n",
      "/home/bat34/venv/lib/python3.5/site-packages/torch/nn/functional.py:1340: UserWarning: nn.functional.tanh is deprecated. Use torch.tanh instead.\n",
      "  warnings.warn(\"nn.functional.tanh is deprecated. Use torch.tanh instead.\")\n",
      "100%|██████████| 438/438 [24:09<00:00,  3.31s/it] \n"
     ]
    },
    {
     "name": "stdout",
     "output_type": "stream",
     "text": [
      "Finished evaluating the model on the val dataset.\n",
      "Saving results to /local/scratch/bat34/test_result_files/agg_concat_min_seed_2048_agg_type_min_q_self_attention_True_txt_enc_BayesianUniSkip_batch_size_256_lr_0.0003_fusion_type_concat_mlp.json\n",
      "Done saving to /local/scratch/bat34/test_result_files/agg_concat_min_seed_2048_agg_type_min_q_self_attention_True_txt_enc_BayesianUniSkip_batch_size_256_lr_0.0003_fusion_type_concat_mlp.json\n"
     ]
    },
    {
     "ename": "NameError",
     "evalue": "name 'accuracy' is not defined",
     "output_type": "error",
     "traceback": [
      "\u001b[0;31m---------------------------------------------------------------------------\u001b[0m",
      "\u001b[0;31mNameError\u001b[0m                                 Traceback (most recent call last)",
      "\u001b[0;32m<ipython-input-7-9fd33ad4d1c0>\u001b[0m in \u001b[0;36m<module>\u001b[0;34m\u001b[0m\n\u001b[1;32m      2\u001b[0m \u001b[0mSAVE_FILE\u001b[0m \u001b[0;34m=\u001b[0m \u001b[0;34m'/home/bat34/VQA_PartII/models/'\u001b[0m\u001b[0;34m\u001b[0m\u001b[0m\n\u001b[1;32m      3\u001b[0m evaluate(config, model, test_loader, evaluator, test_dataset.aid_to_ans, \n\u001b[0;32m----> 4\u001b[0;31m              '/local/scratch/bat34/test_result_files/{}.json'.format(MODEL_NAME), 'cuda')\n\u001b[0m",
      "\u001b[0;32m<ipython-input-6-7bbf2818ff6a>\u001b[0m in \u001b[0;36mevaluate\u001b[0;34m(config, model, val_loader, evaluator, aid_to_ans, RESULTS_FILE_PATH, device)\u001b[0m\n\u001b[1;32m     42\u001b[0m \u001b[0;31m#     accuracy = evaluator.evaluate(RESULTS_FILE_PATH, 1)\u001b[0m\u001b[0;34m\u001b[0m\u001b[0;34m\u001b[0m\u001b[0m\n\u001b[1;32m     43\u001b[0m \u001b[0;31m#     print(\"Validation Results  Overall  accuracy: {:.2f}\".format( accuracy))\u001b[0m\u001b[0;34m\u001b[0m\u001b[0;34m\u001b[0m\u001b[0m\n\u001b[0;32m---> 44\u001b[0;31m     \u001b[0;32mreturn\u001b[0m \u001b[0maccuracy\u001b[0m\u001b[0;34m\u001b[0m\u001b[0m\n\u001b[0m",
      "\u001b[0;31mNameError\u001b[0m: name 'accuracy' is not defined"
     ]
    }
   ],
   "source": [
    "evaluator = None\n",
    "SAVE_FILE = '/home/bat34/VQA_PartII/models/'\n",
    "SAVE_NAME = '/local/scratch/bat34/test_result_files/{}.json'.format(MODEL_NAME)\n",
    "SAVE_NAME = SAVE_NAME if len(SAVE_NAME) <= 100 else SAVE_NAME[]\n",
    "evaluate(config, model, test_loader, evaluator, test_dataset.aid_to_ans, \n",
    "            SAVE_NAME, 'cuda')"
   ]
  },
  {
   "cell_type": "code",
   "execution_count": null,
   "metadata": {},
   "outputs": [],
   "source": []
  }
 ],
 "metadata": {
  "kernelspec": {
   "display_name": "Python 3",
   "language": "python",
   "name": "python3"
  },
  "language_info": {
   "codemirror_mode": {
    "name": "ipython",
    "version": 3
   },
   "file_extension": ".py",
   "mimetype": "text/x-python",
   "name": "python",
   "nbconvert_exporter": "python",
   "pygments_lexer": "ipython3",
   "version": "3.5.2"
  }
 },
 "nbformat": 4,
 "nbformat_minor": 2
}
